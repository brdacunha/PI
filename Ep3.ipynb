{
  "nbformat": 4,
  "nbformat_minor": 0,
  "metadata": {
    "colab": {
      "provenance": [],
      "authorship_tag": "ABX9TyNipz1en1f/YQOb1sZbH/+q",
      "include_colab_link": true
    },
    "kernelspec": {
      "name": "python3",
      "display_name": "Python 3"
    },
    "language_info": {
      "name": "python"
    }
  },
  "cells": [
    {
      "cell_type": "markdown",
      "metadata": {
        "id": "view-in-github",
        "colab_type": "text"
      },
      "source": [
        "<a href=\"https://colab.research.google.com/github/brdacunha/PI/blob/main/Ep3.ipynb\" target=\"_parent\"><img src=\"https://colab.research.google.com/assets/colab-badge.svg\" alt=\"Open In Colab\"/></a>"
      ]
    },
    {
      "cell_type": "markdown",
      "source": [
        "Obter valor da função"
      ],
      "metadata": {
        "id": "ZfUvk_7WEhuK"
      }
    },
    {
      "cell_type": "code",
      "execution_count": null,
      "metadata": {
        "id": "PZBoV4FHEfL1"
      },
      "outputs": [],
      "source": [
        "def obter_valor_funcao(a: int, b: int, c: int):\n",
        "    soma = 0\n",
        "    d = 1\n",
        "    while d <= b:\n",
        "      soma += c*d\n",
        "      d += 1\n",
        "    f = a + soma\n",
        "    return f"
      ]
    },
    {
      "cell_type": "markdown",
      "source": [
        "Função que soma n numeros"
      ],
      "metadata": {
        "id": "8zvFdicyIG5s"
      }
    },
    {
      "cell_type": "code",
      "source": [
        "n = int(input())\n",
        "soma = 0\n",
        "tabela = []\n",
        "\n",
        "for i in range(n):\n",
        "  valor = int(input())\n",
        "  tabela.append(valor)\n",
        "  soma += valor\n",
        "media = soma/n\n",
        "minimo = min(tabela)\n",
        "maximo = max(tabela)\n",
        "\n",
        "print(soma)\n",
        "print(media)\n",
        "print(minimo)\n",
        "print(maximo)"
      ],
      "metadata": {
        "colab": {
          "base_uri": "https://localhost:8080/"
        },
        "id": "-NHIfw-oO9Mn",
        "outputId": "484f9a7b-84f2-4c5e-d95f-f0ceda3b3537"
      },
      "execution_count": null,
      "outputs": [
        {
          "output_type": "stream",
          "name": "stdout",
          "text": [
            "5\n",
            "1\n",
            "2\n",
            "3\n",
            "4\n",
            "5\n",
            "15\n",
            "3.0\n",
            "1\n",
            "5\n"
          ]
        }
      ]
    },
    {
      "cell_type": "code",
      "source": [
        "n = int(input())\n",
        "tabela_notas = []\n",
        "soma = 0\n",
        "conceito_A = 0\n",
        "conceito_B = 0\n",
        "conceito_C = 0\n",
        "conceito_D = 0\n",
        "conceito_F = 0\n",
        "\n",
        "for i in range(n):\n",
        "  nota = float(input())\n",
        "  tabela_notas.append(nota)\n",
        "  soma += nota\n",
        "\n",
        "for i in tabela_notas:\n",
        "  if 9 <= i <= 10:\n",
        "    conceito_A += 1\n",
        "\n",
        "  elif 8 <= i < 9:\n",
        "    conceito_B += 1\n",
        "\n",
        "  elif 7 <= i < 8:\n",
        "    conceito_C += 1\n",
        "\n",
        "  elif 5 <= i < 7:\n",
        "    conceito_D += 1\n",
        "\n",
        "  else:\n",
        "    conceito_F += 1\n",
        "\n",
        "print('A: ', conceito_A)\n",
        "print('B: ', conceito_B)\n",
        "print('C: ', conceito_C)\n",
        "print('D: ', conceito_D)\n",
        "print('F: ', conceito_F)\n",
        "print('%.2f' %(soma/n))"
      ],
      "metadata": {
        "colab": {
          "base_uri": "https://localhost:8080/"
        },
        "id": "SbXDzBklMKh2",
        "outputId": "558f8c5d-4fdb-43ec-caac-5b8793aded47"
      },
      "execution_count": null,
      "outputs": [
        {
          "output_type": "stream",
          "name": "stdout",
          "text": [
            "5\n",
            "3\n",
            "5\n",
            "7\n",
            "9\n",
            "1\n",
            "A:  1\n",
            "B:  0\n",
            "C:  1\n",
            "D:  1\n",
            "F:  2\n",
            "5.0\n"
          ]
        }
      ]
    },
    {
      "cell_type": "markdown",
      "source": [
        "Faça um programa que fique lendo números do usuário até que ele digite 0. Quando isso ocorrer, mostre o valor da média aritmética de todos os números lidos (imprima o valor com duas casas decimais após a vírgula).\n",
        "\n",
        "Entrada:\n",
        "Uma sequência de números inteiros. A leitura é encerrada quando o usuário digitar 0 (zero).\n",
        "Saída:\n",
        "\n",
        "Média de todos os valores lidos."
      ],
      "metadata": {
        "id": "uTeDuAolxe9h"
      }
    },
    {
      "cell_type": "code",
      "source": [
        "soma = 0\n",
        "tabela_valores_n = []\n",
        "\n",
        "while True:\n",
        "  n = float(input())\n",
        "  if n == 0:\n",
        "    break\n",
        "\n",
        "  tabela_valores_n.append(n)\n",
        "  soma += n\n",
        "\n",
        "print('%.2f' %(soma/len(tabela_valores_n)))"
      ],
      "metadata": {
        "id": "Fhx8Yf8qxcIp",
        "colab": {
          "base_uri": "https://localhost:8080/"
        },
        "outputId": "ea68c1e2-ecd7-4900-b354-260b87270807"
      },
      "execution_count": 13,
      "outputs": [
        {
          "output_type": "stream",
          "name": "stdout",
          "text": [
            "1\n",
            "2\n",
            "3\n",
            "0\n",
            "2.00\n"
          ]
        }
      ]
    },
    {
      "cell_type": "markdown",
      "source": [
        "Faça um programa que leia um inteiro n e imprima um \"triângulo\" com os números. Por exemplo, para n=8, a saída seria:\n",
        "\n",
        "1\n",
        "22\n",
        "333\n",
        "4444\n",
        "55555\n",
        "666666\n",
        "7777777\n",
        "88888888"
      ],
      "metadata": {
        "id": "DbRUXuZn06S0"
      }
    },
    {
      "cell_type": "code",
      "source": [
        "n = int(input())\n",
        "\n",
        "for i in range(1, n+1):\n",
        "  linha = str(i) * i\n",
        "  print(linha, end='')\n",
        "  print()"
      ],
      "metadata": {
        "colab": {
          "base_uri": "https://localhost:8080/"
        },
        "id": "oP1ydygQ1FR6",
        "outputId": "2d2f5ff1-43ac-4b63-d3de-b04488156cb8"
      },
      "execution_count": 22,
      "outputs": [
        {
          "output_type": "stream",
          "name": "stdout",
          "text": [
            "5\n",
            "1\n",
            "22\n",
            "333\n",
            "4444\n",
            "55555\n"
          ]
        }
      ]
    },
    {
      "cell_type": "markdown",
      "source": [
        "Faça um programa que leia um valor inteiro n e então calcule o valor de f( n ), conforme definição a seguir:\n",
        "\n",
        "f(n)=∑i=1 até n * ∑j=1 até 8 de (i+1).j\n",
        "\n",
        "Entrada:\n",
        "Valor inteiro n.\n",
        "\n",
        "Saída:\n",
        "Valor de f( n )"
      ],
      "metadata": {
        "id": "MypQpN3I3933"
      }
    },
    {
      "cell_type": "code",
      "source": [
        "n = int(input())\n",
        "soma = 0\n",
        "\n",
        "for i in range (1, n+1):\n",
        "  for j in [1, 2, 3, 4, 5, 6, 7, 8]:\n",
        "    soma += (i+1)*j\n",
        "print(soma)"
      ],
      "metadata": {
        "colab": {
          "base_uri": "https://localhost:8080/"
        },
        "id": "2YK_c6-N39Ff",
        "outputId": "0068d212-6059-422f-8d5f-48d5417499e0"
      },
      "execution_count": 25,
      "outputs": [
        {
          "output_type": "stream",
          "name": "stdout",
          "text": [
            "15\n",
            "4860\n"
          ]
        }
      ]
    }
  ]
}