{
  "nbformat": 4,
  "nbformat_minor": 0,
  "metadata": {
    "colab": {
      "provenance": [],
      "authorship_tag": "ABX9TyPQZKTd1go5bdJrZuqKBtwM",
      "include_colab_link": true
    },
    "kernelspec": {
      "name": "python3",
      "display_name": "Python 3"
    },
    "language_info": {
      "name": "python"
    }
  },
  "cells": [
    {
      "cell_type": "markdown",
      "metadata": {
        "id": "view-in-github",
        "colab_type": "text"
      },
      "source": [
        "<a href=\"https://colab.research.google.com/github/brdacunha/PI/blob/main/PI_Ep1.ipynb\" target=\"_parent\"><img src=\"https://colab.research.google.com/assets/colab-badge.svg\" alt=\"Open In Colab\"/></a>"
      ]
    },
    {
      "cell_type": "markdown",
      "source": [
        "Ep1_2"
      ],
      "metadata": {
        "id": "YwIHT0hHPPXH"
      }
    },
    {
      "cell_type": "code",
      "execution_count": null,
      "metadata": {
        "id": "bqClvFSyJ_2h"
      },
      "outputs": [],
      "source": [
        "a = int(input())\n",
        "b = float(input())\n",
        "c = float(input())\n",
        "\n",
        "print(\"Primeiro numero = %.0f\" % (a))\n",
        "print(\"%.2f eh o segundo numero\" % (b))\n",
        "print(\"Finalmente %.3f eh o terceiro numero\" % (c))\n",
        "\n",
        "#print(\"{:.2f} eh o segundo numero\".format(b))\n",
        "#print(\"Primeiro numero = {:.0f}\".format(a))\n",
        "#print(\"%.0f %.2f %.3f\" % (a, b, c))"
      ]
    },
    {
      "cell_type": "code",
      "source": [
        "a = 3.14159\n",
        "b = 2.71828\n",
        "print(\"a vale %.2f e b vale %.3f\" % (a, b))\n",
        "print(\"a vale {:.2f} e b vale {:.3f}\".format(a, b))"
      ],
      "metadata": {
        "id": "x7zpoAR_Kt8m"
      },
      "execution_count": null,
      "outputs": []
    },
    {
      "cell_type": "markdown",
      "source": [
        "Ep1_5"
      ],
      "metadata": {
        "id": "3E0I8scOPVY2"
      }
    },
    {
      "cell_type": "code",
      "source": [
        "import math\n",
        "\n",
        "ax = float(input())\n",
        "ay = float(input())\n",
        "bx = float(input())\n",
        "by = float(input())\n",
        "d_ab = math.sqrt((bx - ax)**2 + (by - ay)**2)\n",
        "print(\"{:.2f}\".format(d_ab))"
      ],
      "metadata": {
        "id": "ghcqsaRcPbKn"
      },
      "execution_count": null,
      "outputs": []
    }
  ]
}