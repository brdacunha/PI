{
  "nbformat": 4,
  "nbformat_minor": 0,
  "metadata": {
    "colab": {
      "provenance": [],
      "authorship_tag": "ABX9TyP/omXnP9aSRNhdgXx71R3V",
      "include_colab_link": true
    },
    "kernelspec": {
      "name": "python3",
      "display_name": "Python 3"
    },
    "language_info": {
      "name": "python"
    }
  },
  "cells": [
    {
      "cell_type": "markdown",
      "metadata": {
        "id": "view-in-github",
        "colab_type": "text"
      },
      "source": [
        "<a href=\"https://colab.research.google.com/github/brdacunha/PI/blob/main/PI_Ep1.ipynb\" target=\"_parent\"><img src=\"https://colab.research.google.com/assets/colab-badge.svg\" alt=\"Open In Colab\"/></a>"
      ]
    },
    {
      "cell_type": "markdown",
      "source": [
        "Ep1_2 - Treinando a Formatação"
      ],
      "metadata": {
        "id": "YwIHT0hHPPXH"
      }
    },
    {
      "cell_type": "code",
      "execution_count": null,
      "metadata": {
        "id": "bqClvFSyJ_2h"
      },
      "outputs": [],
      "source": [
        "a = int(input())\n",
        "b = float(input())\n",
        "c = float(input())\n",
        "\n",
        "print(\"Primeiro numero = %.0f\" % (a))\n",
        "print(\"%.2f eh o segundo numero\" % (b))\n",
        "print(\"Finalmente %.3f eh o terceiro numero\" % (c))\n",
        "\n",
        "#print(\"{:.2f} eh o segundo numero\".format(b))\n",
        "#print(\"Primeiro numero = {:.0f}\".format(a))\n",
        "#print(\"%.0f %.2f %.3f\" % (a, b, c))"
      ]
    },
    {
      "cell_type": "code",
      "source": [
        "a = 3.14159\n",
        "b = 2.71828\n",
        "print(\"a vale %.2f e b vale %.3f\" % (a, b))\n",
        "print(\"a vale {:.2f} e b vale {:.3f}\".format(a, b))"
      ],
      "metadata": {
        "id": "x7zpoAR_Kt8m"
      },
      "execution_count": null,
      "outputs": []
    },
    {
      "cell_type": "markdown",
      "source": [
        "Ep1_5 - Distância entre 2 pontos"
      ],
      "metadata": {
        "id": "3E0I8scOPVY2"
      }
    },
    {
      "cell_type": "code",
      "source": [
        "import math\n",
        "\n",
        "ax = float(input())\n",
        "ay = float(input())\n",
        "bx = float(input())\n",
        "by = float(input())\n",
        "d_ab = math.sqrt((bx - ax)**2 + (by - ay)**2)\n",
        "print(\"{:.2f}\".format(d_ab))"
      ],
      "metadata": {
        "id": "ghcqsaRcPbKn"
      },
      "execution_count": null,
      "outputs": []
    },
    {
      "cell_type": "markdown",
      "source": [
        "Ep1_6 - Soma PA"
      ],
      "metadata": {
        "id": "ao2kr6dzR0Wh"
      }
    },
    {
      "cell_type": "code",
      "source": [
        "a1 = int(input(\"Digite o primeiro termo da PA: \"))\n",
        "r = int(input(\"Digite a razão da PA: \"))\n",
        "n = int(input(\"Digite o número de termos da PA: \"))\n",
        "an = a1 + (n-1)*r\n",
        "S = n*(a1 + an)/2\n",
        "\n",
        "print(\"%.0f\" % (S))\n"
      ],
      "metadata": {
        "id": "auHugNo0R7Vo"
      },
      "execution_count": null,
      "outputs": []
    },
    {
      "cell_type": "markdown",
      "source": [
        "Ep1_7 - Desconto de 10%"
      ],
      "metadata": {
        "id": "Dkcp73B1Tg70"
      }
    },
    {
      "cell_type": "code",
      "source": [
        "n = float(input())\n",
        "n_10 = n*0.9\n",
        "n_10_10 = n_10*0.9\n",
        "print(\"%.2f\" %(n_10_10))"
      ],
      "metadata": {
        "colab": {
          "base_uri": "https://localhost:8080/"
        },
        "id": "sMsrmxiGT5eV",
        "outputId": "974fecdc-c17d-41c0-cf0e-aa66609a8236"
      },
      "execution_count": 19,
      "outputs": [
        {
          "output_type": "stream",
          "name": "stdout",
          "text": [
            "50\n",
            "40.50\n"
          ]
        }
      ]
    },
    {
      "cell_type": "markdown",
      "source": [
        "Ep1_8 - Encriptar número de 4 dígitos"
      ],
      "metadata": {
        "id": "lz7I6l9NXtq8"
      }
    },
    {
      "cell_type": "code",
      "source": [
        "n = int(input(\"Digite um numero com 4 digitos: \"))\n",
        "\n",
        "milhar = n // 1000\n",
        "centena = (n % 1000) // 100\n",
        "dezena = (n % 100) // 10\n",
        "unidade = n % 10\n",
        "\n",
        "milhar_encriptado = (milhar + 1) % 10\n",
        "centena_encriptado = (centena +1) % 10\n",
        "dezena_encriptado = (dezena + 1) % 10\n",
        "unidade_encriptado = (unidade + 1 ) % 10\n",
        "\n",
        "n_encriptado = milhar_encriptado*1000 + centena_encriptado*100 + dezena_encriptado*10 + unidade_encriptado\n",
        "print('%04d' % (n_encriptado))\n",
        "#print('{:04d}'.format(n_encriptado))"
      ],
      "metadata": {
        "colab": {
          "base_uri": "https://localhost:8080/"
        },
        "id": "T6ymFSwBWwAs",
        "outputId": "eb54f546-c7bc-4fc9-b465-d510e3d2b803"
      },
      "execution_count": 64,
      "outputs": [
        {
          "output_type": "stream",
          "name": "stdout",
          "text": [
            "Digite um numero com 4 digitos: 9876\n",
            "0987\n"
          ]
        }
      ]
    }
  ]
}