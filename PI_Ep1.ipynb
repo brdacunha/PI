{
  "nbformat": 4,
  "nbformat_minor": 0,
  "metadata": {
    "colab": {
      "provenance": [],
      "authorship_tag": "ABX9TyOYmOxOpZ6pQDfwl6nqfe4O",
      "include_colab_link": true
    },
    "kernelspec": {
      "name": "python3",
      "display_name": "Python 3"
    },
    "language_info": {
      "name": "python"
    }
  },
  "cells": [
    {
      "cell_type": "markdown",
      "metadata": {
        "id": "view-in-github",
        "colab_type": "text"
      },
      "source": [
        "<a href=\"https://colab.research.google.com/github/brdacunha/PI/blob/main/PI_Ep1.ipynb\" target=\"_parent\"><img src=\"https://colab.research.google.com/assets/colab-badge.svg\" alt=\"Open In Colab\"/></a>"
      ]
    },
    {
      "cell_type": "code",
      "execution_count": 10,
      "metadata": {
        "colab": {
          "base_uri": "https://localhost:8080/"
        },
        "id": "bqClvFSyJ_2h",
        "outputId": "5a76f5d0-a6d2-484d-c57a-5c937346da11"
      },
      "outputs": [
        {
          "output_type": "stream",
          "name": "stdout",
          "text": [
            "2\n",
            "3.15455\n",
            "3\n",
            "Primeiro numero = 2\n",
            "3.15 eh o segundo numero\n",
            "3.15 eh o segundo numero\n"
          ]
        }
      ],
      "source": [
        "a = int(input())\n",
        "b = float(input())\n",
        "c = float(input())\n",
        "\n",
        "print(\"Primeiro numero = %.0f\" % (a))\n",
        "print(\"%.2f eh o segundo numero\" % (b))\n",
        "print(\"Finalmente %.3f eh o terceiro numero\" % (c))\n",
        "\n",
        "#print(\"{:.2f} eh o segundo numero\".format(b))\n",
        "#print(\"Primeiro numero = {:.0f}\".format(a))\n",
        "#print(\"%.0f %.2f %.3f\" % (a, b, c))"
      ]
    },
    {
      "cell_type": "code",
      "source": [
        "a = 3.14159\n",
        "b = 2.71828\n",
        "print(\"a vale %.2f e b vale %.3f\" % (a, b))\n",
        "print(\"a vale {:.2f} e b vale {:.3f}\".format(a, b))"
      ],
      "metadata": {
        "colab": {
          "base_uri": "https://localhost:8080/"
        },
        "id": "x7zpoAR_Kt8m",
        "outputId": "0ae5229f-de11-4cef-96b2-c7cd713ea3b7"
      },
      "execution_count": 1,
      "outputs": [
        {
          "output_type": "stream",
          "name": "stdout",
          "text": [
            "a vale 3.14 e b vale 2.718\n",
            "a vale 3.14 e b vale 2.718\n"
          ]
        }
      ]
    }
  ]
}