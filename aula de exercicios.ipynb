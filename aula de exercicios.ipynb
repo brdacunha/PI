{
  "nbformat": 4,
  "nbformat_minor": 0,
  "metadata": {
    "colab": {
      "provenance": [],
      "authorship_tag": "ABX9TyN6K7TjWwQ2QzsolidSc7/P",
      "include_colab_link": true
    },
    "kernelspec": {
      "name": "python3",
      "display_name": "Python 3"
    },
    "language_info": {
      "name": "python"
    }
  },
  "cells": [
    {
      "cell_type": "markdown",
      "metadata": {
        "id": "view-in-github",
        "colab_type": "text"
      },
      "source": [
        "<a href=\"https://colab.research.google.com/github/brdacunha/PI/blob/main/aula%20de%20exercicios.ipynb\" target=\"_parent\"><img src=\"https://colab.research.google.com/assets/colab-badge.svg\" alt=\"Open In Colab\"/></a>"
      ]
    },
    {
      "cell_type": "code",
      "execution_count": 1,
      "metadata": {
        "colab": {
          "base_uri": "https://localhost:8080/"
        },
        "id": "Ua8SLaDWsU3y",
        "outputId": "96f71097-5882-44fe-8285-88115f6c7d1d"
      },
      "outputs": [
        {
          "output_type": "stream",
          "name": "stdout",
          "text": [
            "1 1\n",
            "1 2\n",
            "1 3\n",
            "2 1\n",
            "2 2\n",
            "2 3\n"
          ]
        }
      ],
      "source": [
        "def imprime_numeros(x: int, y: int) -> None:\n",
        "  for i in range(1, x+1):\n",
        "    for j in range(1, y+1):\n",
        "      print(i, j)\n",
        "\n",
        "imprime_numeros(2, 3)"
      ]
    },
    {
      "cell_type": "code",
      "source": [
        "for i in range(2):\n",
        "  for j in range(2):\n",
        "    for k in range(2):\n",
        "      for l in range(2):\n",
        "        print(i, j, k, l)"
      ],
      "metadata": {
        "colab": {
          "base_uri": "https://localhost:8080/"
        },
        "id": "TXrd7Q4GszKc",
        "outputId": "79a70dca-e71d-4527-dfa4-8aa1b541d8bf"
      },
      "execution_count": 6,
      "outputs": [
        {
          "output_type": "stream",
          "name": "stdout",
          "text": [
            "0 0 0 0\n",
            "0 0 0 1\n",
            "0 0 1 0\n",
            "0 0 1 1\n",
            "0 1 0 0\n",
            "0 1 0 1\n",
            "0 1 1 0\n",
            "0 1 1 1\n",
            "1 0 0 0\n",
            "1 0 0 1\n",
            "1 0 1 0\n",
            "1 0 1 1\n",
            "1 1 0 0\n",
            "1 1 0 1\n",
            "1 1 1 0\n",
            "1 1 1 1\n"
          ]
        }
      ]
    },
    {
      "cell_type": "code",
      "source": [
        "n = 5\n",
        "for i in range(1, n+1):\n",
        "  for j in range(i, n+1):\n",
        "    print(i, j)"
      ],
      "metadata": {
        "colab": {
          "base_uri": "https://localhost:8080/"
        },
        "id": "tAbb4tOLt3Nh",
        "outputId": "7dea748a-ece8-49fc-84b1-9f55057ff029"
      },
      "execution_count": 7,
      "outputs": [
        {
          "output_type": "stream",
          "name": "stdout",
          "text": [
            "1 1\n",
            "1 2\n",
            "1 3\n",
            "1 4\n",
            "1 5\n",
            "2 2\n",
            "2 3\n",
            "2 4\n",
            "2 5\n",
            "3 3\n",
            "3 4\n",
            "3 5\n",
            "4 4\n",
            "4 5\n",
            "5 5\n"
          ]
        }
      ]
    },
    {
      "cell_type": "code",
      "source": [
        "def imprimir_sequencia(n: int, m: int):\n",
        "  for i in range(1, (n*m)+1):\n",
        "    print(i, end=\"\") # end=\"\" adiciona ao final da saída um espaço em branco \"\" \", em vez do padrão '\\n' adotado quando fazemos apenas print(i)\n",
        "    if i % m == 0:\n",
        "      print()\n",
        "\n",
        "imprimir_sequencia(4, 5)"
      ],
      "metadata": {
        "colab": {
          "base_uri": "https://localhost:8080/"
        },
        "id": "48HhRE1Owd9Y",
        "outputId": "6b78ce9e-db5c-4620-a8a4-ed992327eb63"
      },
      "execution_count": 9,
      "outputs": [
        {
          "output_type": "stream",
          "name": "stdout",
          "text": [
            "12345\n",
            "678910\n",
            "1112131415\n",
            "1617181920\n"
          ]
        }
      ]
    },
    {
      "cell_type": "code",
      "source": [
        "dimensao = int(input())\n",
        "\n",
        "i = 1\n",
        "while i <= dimensao:\n",
        "  j = 1\n",
        "  while j <= dimensao:\n",
        "    if (i+j) % 2 == 0:\n",
        "      print('o', end='')\n",
        "    else:\n",
        "      print('*', end='')\n",
        "    j = j + 1\n",
        "  print() # pular linha\n",
        "  i += 1\n"
      ],
      "metadata": {
        "colab": {
          "base_uri": "https://localhost:8080/"
        },
        "id": "F6WQLH8Dx9ZW",
        "outputId": "db909307-0d54-4489-8c3e-d0cadca53630"
      },
      "execution_count": 12,
      "outputs": [
        {
          "output_type": "stream",
          "name": "stdout",
          "text": [
            "5\n",
            "o*o*o\n",
            "*o*o*\n",
            "o*o*o\n",
            "*o*o*\n",
            "o*o*o\n"
          ]
        }
      ]
    },
    {
      "cell_type": "code",
      "source": [
        "dimensao = int(input())\n",
        "\n",
        "for i in range(dimensao):\n",
        "  for j in range(dimensao):\n",
        "    if (i+j) % 2 == 0:\n",
        "      print('o', end='')\n",
        "    else:\n",
        "      print('*', end='')\n",
        "  print()"
      ],
      "metadata": {
        "colab": {
          "base_uri": "https://localhost:8080/"
        },
        "id": "qb6URdA31P8p",
        "outputId": "68a723ed-5c86-4b6c-8454-75c041b0d0b4"
      },
      "execution_count": 15,
      "outputs": [
        {
          "output_type": "stream",
          "name": "stdout",
          "text": [
            "5\n",
            "o*o*o\n",
            "*o*o*\n",
            "o*o*o\n",
            "*o*o*\n",
            "o*o*o\n"
          ]
        }
      ]
    },
    {
      "cell_type": "code",
      "source": [],
      "metadata": {
        "id": "M_aDyt0z1zL0"
      },
      "execution_count": null,
      "outputs": []
    }
  ]
}