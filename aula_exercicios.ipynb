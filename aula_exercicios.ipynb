{
  "nbformat": 4,
  "nbformat_minor": 0,
  "metadata": {
    "colab": {
      "provenance": [],
      "authorship_tag": "ABX9TyNJebA/72FJ5hxk1Gcrvy/8",
      "include_colab_link": true
    },
    "kernelspec": {
      "name": "python3",
      "display_name": "Python 3"
    },
    "language_info": {
      "name": "python"
    }
  },
  "cells": [
    {
      "cell_type": "markdown",
      "metadata": {
        "id": "view-in-github",
        "colab_type": "text"
      },
      "source": [
        "<a href=\"https://colab.research.google.com/github/brdacunha/PI/blob/main/aula_exercicios.ipynb\" target=\"_parent\"><img src=\"https://colab.research.google.com/assets/colab-badge.svg\" alt=\"Open In Colab\"/></a>"
      ]
    },
    {
      "cell_type": "code",
      "execution_count": 1,
      "metadata": {
        "colab": {
          "base_uri": "https://localhost:8080/"
        },
        "id": "Ua8SLaDWsU3y",
        "outputId": "96f71097-5882-44fe-8285-88115f6c7d1d"
      },
      "outputs": [
        {
          "output_type": "stream",
          "name": "stdout",
          "text": [
            "1 1\n",
            "1 2\n",
            "1 3\n",
            "2 1\n",
            "2 2\n",
            "2 3\n"
          ]
        }
      ],
      "source": [
        "def imprime_numeros(x: int, y: int) -> None:\n",
        "  for i in range(1, x+1):\n",
        "    for j in range(1, y+1):\n",
        "      print(i, j)\n",
        "\n",
        "imprime_numeros(2, 3)"
      ]
    },
    {
      "cell_type": "code",
      "source": [
        "for i in range(2):\n",
        "  for j in range(2):\n",
        "    for k in range(2):\n",
        "      for l in range(2):\n",
        "        print(i, j, k, l)"
      ],
      "metadata": {
        "colab": {
          "base_uri": "https://localhost:8080/"
        },
        "id": "TXrd7Q4GszKc",
        "outputId": "79a70dca-e71d-4527-dfa4-8aa1b541d8bf"
      },
      "execution_count": 6,
      "outputs": [
        {
          "output_type": "stream",
          "name": "stdout",
          "text": [
            "0 0 0 0\n",
            "0 0 0 1\n",
            "0 0 1 0\n",
            "0 0 1 1\n",
            "0 1 0 0\n",
            "0 1 0 1\n",
            "0 1 1 0\n",
            "0 1 1 1\n",
            "1 0 0 0\n",
            "1 0 0 1\n",
            "1 0 1 0\n",
            "1 0 1 1\n",
            "1 1 0 0\n",
            "1 1 0 1\n",
            "1 1 1 0\n",
            "1 1 1 1\n"
          ]
        }
      ]
    },
    {
      "cell_type": "code",
      "source": [
        "n = 5\n",
        "for i in range(1, n+1):\n",
        "  for j in range(i, n+1):\n",
        "    print(i, j)"
      ],
      "metadata": {
        "colab": {
          "base_uri": "https://localhost:8080/"
        },
        "id": "tAbb4tOLt3Nh",
        "outputId": "7dea748a-ece8-49fc-84b1-9f55057ff029"
      },
      "execution_count": 7,
      "outputs": [
        {
          "output_type": "stream",
          "name": "stdout",
          "text": [
            "1 1\n",
            "1 2\n",
            "1 3\n",
            "1 4\n",
            "1 5\n",
            "2 2\n",
            "2 3\n",
            "2 4\n",
            "2 5\n",
            "3 3\n",
            "3 4\n",
            "3 5\n",
            "4 4\n",
            "4 5\n",
            "5 5\n"
          ]
        }
      ]
    },
    {
      "cell_type": "code",
      "source": [
        "def imprimir_sequencia(n: int, m: int):\n",
        "  for i in range(1, (n*m)+1):\n",
        "    print(i, end=\"\") # end=\"\" adiciona ao final da saída um espaço em branco \"\" \", em vez do padrão '\\n' adotado quando fazemos apenas print(i)\n",
        "    if i % m == 0:\n",
        "      print()\n",
        "\n",
        "imprimir_sequencia(4, 5)"
      ],
      "metadata": {
        "colab": {
          "base_uri": "https://localhost:8080/"
        },
        "id": "48HhRE1Owd9Y",
        "outputId": "6b78ce9e-db5c-4620-a8a4-ed992327eb63"
      },
      "execution_count": 9,
      "outputs": [
        {
          "output_type": "stream",
          "name": "stdout",
          "text": [
            "12345\n",
            "678910\n",
            "1112131415\n",
            "1617181920\n"
          ]
        }
      ]
    },
    {
      "cell_type": "code",
      "source": [
        "dimensao = int(input())\n",
        "\n",
        "i = 1\n",
        "while i <= dimensao:\n",
        "  j = 1\n",
        "  while j <= dimensao:\n",
        "    if (i+j) % 2 == 0:\n",
        "      print('o', end='')\n",
        "    else:\n",
        "      print('*', end='')\n",
        "    j = j + 1\n",
        "  print() # pular linha\n",
        "  i += 1\n"
      ],
      "metadata": {
        "colab": {
          "base_uri": "https://localhost:8080/"
        },
        "id": "F6WQLH8Dx9ZW",
        "outputId": "db909307-0d54-4489-8c3e-d0cadca53630"
      },
      "execution_count": 12,
      "outputs": [
        {
          "output_type": "stream",
          "name": "stdout",
          "text": [
            "5\n",
            "o*o*o\n",
            "*o*o*\n",
            "o*o*o\n",
            "*o*o*\n",
            "o*o*o\n"
          ]
        }
      ]
    },
    {
      "cell_type": "code",
      "source": [
        "dimensao = int(input())\n",
        "\n",
        "for i in range(dimensao):\n",
        "  for j in range(dimensao):\n",
        "    if (i+j) % 2 == 0:\n",
        "      print('o', end='')\n",
        "    else:\n",
        "      print('*', end='')\n",
        "  print()"
      ],
      "metadata": {
        "colab": {
          "base_uri": "https://localhost:8080/"
        },
        "id": "qb6URdA31P8p",
        "outputId": "68a723ed-5c86-4b6c-8454-75c041b0d0b4"
      },
      "execution_count": 15,
      "outputs": [
        {
          "output_type": "stream",
          "name": "stdout",
          "text": [
            "5\n",
            "o*o*o\n",
            "*o*o*\n",
            "o*o*o\n",
            "*o*o*\n",
            "o*o*o\n"
          ]
        }
      ]
    },
    {
      "cell_type": "code",
      "source": [
        "n = int(input())\n",
        "\n",
        "minimo =  999999\n",
        "maximo = -999999\n",
        "\n",
        "for iteracao in range(n):\n",
        "  elemento = int(input())\n",
        "\n",
        "  if minimo > elemento:\n",
        "    minimo = elemento\n",
        "  if maximo < elemento:\n",
        "    maximo = elemento\n",
        "\n",
        "print(minimo)\n",
        "print(maximo)"
      ],
      "metadata": {
        "id": "M_aDyt0z1zL0"
      },
      "execution_count": null,
      "outputs": []
    },
    {
      "cell_type": "code",
      "source": [
        "def fibonacci(n):\n",
        "  k = 2\n",
        "  t1 = 0\n",
        "  t2 = 1\n",
        "  print(t1)\n",
        "  print(t2)\n",
        "  while k <= n:\n",
        "    seguinte = t1 + t2\n",
        "    print(seguinte)\n",
        "    t1 = t2\n",
        "    t2 = seguinte\n",
        "    k += 1\n",
        "\n",
        "fibonacci(10)"
      ],
      "metadata": {
        "colab": {
          "base_uri": "https://localhost:8080/"
        },
        "id": "rNeZbFPr3J9j",
        "outputId": "c997e1a8-e627-4f45-a11f-e17f48d7348a"
      },
      "execution_count": 18,
      "outputs": [
        {
          "output_type": "stream",
          "name": "stdout",
          "text": [
            "0\n",
            "1\n",
            "1\n",
            "2\n",
            "3\n",
            "5\n",
            "8\n",
            "13\n",
            "21\n",
            "34\n",
            "55\n"
          ]
        }
      ]
    },
    {
      "cell_type": "code",
      "source": [
        "def fatorial(n: int) -> int:\n",
        "  produto = 1\n",
        "  while n>0:\n",
        "    produto = produto*n\n",
        "    n = n-1\n",
        "  return produto\n",
        "\n",
        "print(fatorial(6))"
      ],
      "metadata": {
        "colab": {
          "base_uri": "https://localhost:8080/"
        },
        "id": "3L6ErViY4Vu2",
        "outputId": "fad73ede-949d-46f3-e79b-9576b5424721"
      },
      "execution_count": 22,
      "outputs": [
        {
          "output_type": "stream",
          "name": "stdout",
          "text": [
            "720\n"
          ]
        }
      ]
    },
    {
      "cell_type": "code",
      "source": [
        "c = input().lower()\n",
        "s = input()\n",
        "\n",
        "for i in range(0, len(s)):\n",
        "  if s[i].lower() != c:\n",
        "    print(s[i], end='')\n",
        "print()"
      ],
      "metadata": {
        "colab": {
          "base_uri": "https://localhost:8080/"
        },
        "id": "fLKFdUQT6KZX",
        "outputId": "115b34e2-6e18-445f-d05e-b69730e3ce6b"
      },
      "execution_count": 30,
      "outputs": [
        {
          "output_type": "stream",
          "name": "stdout",
          "text": [
            "e\n",
            "viver sem pedalar não faz sentido\n",
            "vivr sm pdalar não faz sntido\n"
          ]
        }
      ]
    }
  ]
}