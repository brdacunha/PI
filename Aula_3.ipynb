{
  "nbformat": 4,
  "nbformat_minor": 0,
  "metadata": {
    "colab": {
      "provenance": [],
      "authorship_tag": "ABX9TyNmKCSEfPG/zb5JbVwD+Jda",
      "include_colab_link": true
    },
    "kernelspec": {
      "name": "python3",
      "display_name": "Python 3"
    },
    "language_info": {
      "name": "python"
    }
  },
  "cells": [
    {
      "cell_type": "markdown",
      "metadata": {
        "id": "view-in-github",
        "colab_type": "text"
      },
      "source": [
        "<a href=\"https://colab.research.google.com/github/brdacunha/PI/blob/main/Aula_3.ipynb\" target=\"_parent\"><img src=\"https://colab.research.google.com/assets/colab-badge.svg\" alt=\"Open In Colab\"/></a>"
      ]
    },
    {
      "cell_type": "code",
      "execution_count": null,
      "metadata": {
        "id": "6vlGgsNEjSD0"
      },
      "outputs": [],
      "source": [
        "n = 1\n",
        "while n<=10:\n",
        "    print('Funciona!')\n",
        "    n = n+1 # essa linha abaixo da instrução é para atualizar a condição. Junto com a linha acima constitui o corpo do laço."
      ]
    },
    {
      "cell_type": "code",
      "source": [
        "n = 5\n",
        "\n",
        "while n>0:\n",
        "    print(\"Faltam {} segundos\".format(n))\n",
        "    n = n-1\n",
        "print(\"BOOM!\")"
      ],
      "metadata": {
        "id": "CQr3PU6Il9Mt"
      },
      "execution_count": null,
      "outputs": []
    },
    {
      "cell_type": "code",
      "source": [
        "def soma_intervalo(a: int, b: int) -> int:\n",
        "    soma = 0 # variável que vai receber os valores somados sucessivamente.\n",
        "    n = a # n é a minha variável de controle.\n",
        "\n",
        "    while n<=b:\n",
        "        soma = soma + n\n",
        "        n = n+1\n",
        "\n",
        "    return soma # quando a condição não é mais satisfeita, a função retorna o valor da variável 'soma'.\n",
        "\n",
        "a = int(input())\n",
        "b = int(input())\n",
        "print(soma_intervalo(a,b))"
      ],
      "metadata": {
        "id": "Lyusp62RoG4J"
      },
      "execution_count": null,
      "outputs": []
    },
    {
      "cell_type": "code",
      "source": [
        "def soma_intervalo(a: int, b: int) -> int:\n",
        "    soma = 0 # variável que vai receber os valores somados sucessivamente.\n",
        "\n",
        "    while a<=b:\n",
        "        soma = soma + a\n",
        "        a = a+1\n",
        "\n",
        "    return soma # quando a condição não é mais satisfeita, a função retorna o valor da variável 'soma'.\n",
        "\n",
        "a = int(input())\n",
        "b = int(input())\n",
        "print(soma_intervalo(a,b)) # esse código é menos 'pesado' que o anterior."
      ],
      "metadata": {
        "id": "dwZYFAVCrtAa"
      },
      "execution_count": null,
      "outputs": []
    },
    {
      "cell_type": "code",
      "source": [
        "def somaP(n: int) -> int:\n",
        "    soma = 0\n",
        "    i = 1\n",
        "\n",
        "    while i <= n:\n",
        "        soma = soma + i**2\n",
        "        i = i + 1\n",
        "\n",
        "    return soma\n",
        "\n",
        "n = int(input())\n",
        "print(somaP(n))"
      ],
      "metadata": {
        "id": "HaY8YLBdsBtG"
      },
      "execution_count": null,
      "outputs": []
    },
    {
      "cell_type": "code",
      "source": [
        "def somaP(n: int) -> int:\n",
        "    soma = 0\n",
        "    i = 1\n",
        "\n",
        "    while i <= n:\n",
        "        soma += i**2\n",
        "        i += 1\n",
        "\n",
        "    return soma\n",
        "\n",
        "n = int(input())\n",
        "print(somaP(n))"
      ],
      "metadata": {
        "id": "gPU8oPF8tzDu"
      },
      "execution_count": null,
      "outputs": []
    },
    {
      "cell_type": "code",
      "source": [
        "def somaR(n: int) -> int:\n",
        "    soma = 0\n",
        "    i = 1\n",
        "\n",
        "    while i<=n:\n",
        "        soma = soma + i*(-1)**(i+1) # macete aritmético para somar números com sinais trocados.\n",
        "        i = i +1\n",
        "\n",
        "    return soma\n",
        "\n",
        "n = int(input())\n",
        "print(somaR(n))"
      ],
      "metadata": {
        "id": "_KeysITqvfml"
      },
      "execution_count": null,
      "outputs": []
    },
    {
      "cell_type": "code",
      "source": [
        "def numero_triangular(n: int) -> bool:\n",
        "  i = 1\n",
        "\n",
        "  while i*(i+1)*(i+2) < n:\n",
        "      i += 1\n",
        "\n",
        "  return i*(i+1)*(i+2) == n\n",
        "\n",
        "n = int(input())\n",
        "print(numero_triangular(n))"
      ],
      "metadata": {
        "id": "MfVV2768xybN"
      },
      "execution_count": null,
      "outputs": []
    },
    {
      "cell_type": "code",
      "source": [
        "def pi() -> float:\n",
        "    soma = 0\n",
        "    i = 0\n",
        "\n",
        "    while i < 1000:\n",
        "        soma = soma + (-1)**i/(2*i+1)\n",
        "        i = i + 1\n",
        "\n",
        "    return 4*soma\n",
        "\n",
        "pi()"
      ],
      "metadata": {
        "colab": {
          "base_uri": "https://localhost:8080/"
        },
        "id": "wEJkX7mnx2uj",
        "outputId": "0a571c45-4dfe-415b-f3f1-da6e00a2a46a"
      },
      "execution_count": null,
      "outputs": [
        {
          "output_type": "execute_result",
          "data": {
            "text/plain": [
              "3.140592653839794"
            ]
          },
          "metadata": {},
          "execution_count": 25
        }
      ]
    },
    {
      "cell_type": "code",
      "source": [
        "def pi() -> float:\n",
        "    soma = 0\n",
        "    i = 0\n",
        "\n",
        "    while i < n:\n",
        "        soma = soma + (-1)**i/(2*i+1)\n",
        "        i = i + 1\n",
        "\n",
        "    return 4*soma\n",
        "\n",
        "n = float(input())\n",
        "pi()"
      ],
      "metadata": {
        "colab": {
          "base_uri": "https://localhost:8080/"
        },
        "id": "aErVRulM1YWt",
        "outputId": "b7cc77ee-1bba-4e86-8b18-da9a2de82303"
      },
      "execution_count": null,
      "outputs": [
        {
          "name": "stdout",
          "output_type": "stream",
          "text": [
            "10000\n"
          ]
        },
        {
          "output_type": "execute_result",
          "data": {
            "text/plain": [
              "3.1414926535900345"
            ]
          },
          "metadata": {},
          "execution_count": 32
        }
      ]
    },
    {
      "cell_type": "code",
      "source": [
        "pares = 0\n",
        "impares = 0\n",
        "n = int(input(\"Digite um número: \"))\n",
        "\n",
        "while n >= 0:\n",
        "    if n%2==0:\n",
        "        pares = pares + n\n",
        "    else:\n",
        "        impares = impares + n\n",
        "    n = int(input(\"Digite um número: \"))\n",
        "\n",
        "print('A soma dos pares é: ', pares)\n",
        "print('A soma dos impares é: ', impares)"
      ],
      "metadata": {
        "id": "0Wl4tUse2CeV"
      },
      "execution_count": null,
      "outputs": []
    },
    {
      "cell_type": "markdown",
      "source": [
        "Laço \"for\" tem a mesma função do \"while\", mas a escrita é diferente. Usada para quando vc não sabe quantas vezes quer iterar (repetir).\n",
        "No While vc precisa de uma variável de controle a priori e descrever a condição de parada e colocar algumas instruções para atualizar a variável de controle, para não entrar em looping.\n"
      ],
      "metadata": {
        "id": "7Epu83X9Ry--"
      }
    },
    {
      "cell_type": "code",
      "source": [
        "for n in [1, 2, 3, 4, 5, 6, 7, 8, 9, 10]: # n vai assumir sucessivamente os valores que aparecem na lista. Nesse caso, como só tem uma instrução, esta será impressa 10 vezes!\n",
        "    print(\"Funciona!\")"
      ],
      "metadata": {
        "id": "SSldhXk3Qibc"
      },
      "execution_count": null,
      "outputs": []
    },
    {
      "cell_type": "code",
      "source": [
        "# função 'range' permite criar um objeto que contém uma sequência de números inteiros.\n",
        "# Ex.: range(10) --> sequência de [0 a 9], ou seja, começa em 0 e soma 1 a cada termo até o número de termos descritos entre parênteses.\n",
        "# Ex.: range(1) --> [0] e range(0) --> []\n"
      ],
      "metadata": {
        "id": "mvanmnRFUtVd"
      },
      "execution_count": null,
      "outputs": []
    }
  ]
}