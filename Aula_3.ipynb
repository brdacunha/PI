{
  "nbformat": 4,
  "nbformat_minor": 0,
  "metadata": {
    "colab": {
      "provenance": [],
      "authorship_tag": "ABX9TyOPcodL1iEa06lD490XFeiz",
      "include_colab_link": true
    },
    "kernelspec": {
      "name": "python3",
      "display_name": "Python 3"
    },
    "language_info": {
      "name": "python"
    }
  },
  "cells": [
    {
      "cell_type": "markdown",
      "metadata": {
        "id": "view-in-github",
        "colab_type": "text"
      },
      "source": [
        "<a href=\"https://colab.research.google.com/github/brdacunha/PI/blob/main/Aula_3.ipynb\" target=\"_parent\"><img src=\"https://colab.research.google.com/assets/colab-badge.svg\" alt=\"Open In Colab\"/></a>"
      ]
    },
    {
      "cell_type": "code",
      "execution_count": null,
      "metadata": {
        "id": "6vlGgsNEjSD0"
      },
      "outputs": [],
      "source": [
        "n = 1\n",
        "while n<=10:\n",
        "    print('Funciona!')\n",
        "    n = n+1 # essa linha abaixo da instrução é para atualizar a condição. Junto com a linha acima constitui o corpo do laço."
      ]
    },
    {
      "cell_type": "code",
      "source": [
        "n = 5\n",
        "\n",
        "while n>0:\n",
        "    print(\"Faltam {} segundos\".format(n))\n",
        "    n = n-1\n",
        "print(\"BOOM!\")"
      ],
      "metadata": {
        "id": "CQr3PU6Il9Mt"
      },
      "execution_count": null,
      "outputs": []
    },
    {
      "cell_type": "code",
      "source": [
        "def soma_intervalo(a: int, b: int) -> int:\n",
        "    soma = 0 # variável que vai receber os valores somados sucessivamente.\n",
        "    n = a # n é a minha variável de controle.\n",
        "\n",
        "    while n<=b:\n",
        "        soma = soma + n\n",
        "        n = n+1\n",
        "\n",
        "    return soma # quando a condição não é mais satisfeita, a função retorna o valor da variável 'soma'.\n",
        "\n",
        "a = int(input())\n",
        "b = int(input())\n",
        "print(soma_intervalo(a,b))"
      ],
      "metadata": {
        "id": "Lyusp62RoG4J"
      },
      "execution_count": null,
      "outputs": []
    },
    {
      "cell_type": "code",
      "source": [
        "def soma_intervalo(a: int, b: int) -> int:\n",
        "    soma = 0 # variável que vai receber os valores somados sucessivamente.\n",
        "\n",
        "    while a<=b:\n",
        "        soma = soma + a\n",
        "        a = a+1\n",
        "\n",
        "    return soma # quando a condição não é mais satisfeita, a função retorna o valor da variável 'soma'.\n",
        "\n",
        "a = int(input())\n",
        "b = int(input())\n",
        "print(soma_intervalo(a,b)) # esse código é menos 'pesado' que o anterior."
      ],
      "metadata": {
        "id": "dwZYFAVCrtAa"
      },
      "execution_count": null,
      "outputs": []
    },
    {
      "cell_type": "code",
      "source": [
        "def somaP(n: int) -> int:\n",
        "    soma = 0\n",
        "    i = 1\n",
        "\n",
        "    while i <= n:\n",
        "        soma = soma + i**2\n",
        "        i = i + 1\n",
        "\n",
        "    return soma\n",
        "\n",
        "n = int(input())\n",
        "print(somaP(n))"
      ],
      "metadata": {
        "id": "HaY8YLBdsBtG"
      },
      "execution_count": null,
      "outputs": []
    },
    {
      "cell_type": "code",
      "source": [
        "def somaP(n: int) -> int:\n",
        "    soma = 0\n",
        "    i = 1\n",
        "\n",
        "    while i <= n:\n",
        "        soma += i**2\n",
        "        i += 1\n",
        "\n",
        "    return soma\n",
        "\n",
        "n = int(input())\n",
        "print(somaP(n))"
      ],
      "metadata": {
        "id": "gPU8oPF8tzDu"
      },
      "execution_count": null,
      "outputs": []
    },
    {
      "cell_type": "code",
      "source": [
        "def somaR(n: int) -> int:\n",
        "    soma = 0\n",
        "    i = 1\n",
        "\n",
        "    while i<=n:\n",
        "        soma = soma + i*(-1)**(i+1) # macete aritmético para somar números com sinais trocados.\n",
        "        i = i +1\n",
        "\n",
        "    return soma\n",
        "\n",
        "n = int(input())\n",
        "print(somaR(n))"
      ],
      "metadata": {
        "id": "_KeysITqvfml"
      },
      "execution_count": null,
      "outputs": []
    }
  ]
}