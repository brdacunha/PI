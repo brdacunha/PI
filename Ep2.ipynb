{
  "nbformat": 4,
  "nbformat_minor": 0,
  "metadata": {
    "colab": {
      "provenance": [],
      "include_colab_link": true
    },
    "kernelspec": {
      "name": "python3",
      "display_name": "Python 3"
    },
    "language_info": {
      "name": "python"
    }
  },
  "cells": [
    {
      "cell_type": "markdown",
      "metadata": {
        "id": "view-in-github",
        "colab_type": "text"
      },
      "source": [
        "<a href=\"https://colab.research.google.com/github/brdacunha/PI/blob/main/Ep2.ipynb\" target=\"_parent\"><img src=\"https://colab.research.google.com/assets/colab-badge.svg\" alt=\"Open In Colab\"/></a>"
      ]
    },
    {
      "cell_type": "code",
      "execution_count": null,
      "metadata": {
        "colab": {
          "base_uri": "https://localhost:8080/"
        },
        "id": "Tg6VvX6Jfibr",
        "outputId": "815eb7c0-9c84-4b95-c4ed-0a0473d4565b"
      },
      "outputs": [
        {
          "output_type": "stream",
          "name": "stdout",
          "text": [
            "Salário fixo do vendedor:5000\n",
            "Soma das vendas realizadas:2000\n",
            "400.00\n",
            "Nao atingiu meta de vendas\n"
          ]
        }
      ],
      "source": [
        "salario_fixo = float(input(\"Salário fixo do vendedor:\"))\n",
        "soma_das_vendas = float(input(\"Soma das vendas realizadas:\"))\n",
        "\n",
        "comissao_zero = salario_fixo*0.5\n",
        "comissao_vendas = soma_das_vendas*0.2\n",
        "\n",
        "if comissao_vendas >= comissao_zero:\n",
        "  print(f\"{comissao_vendas:.2f}\")\n",
        "  print(\"Atingiu meta de vendas\")\n",
        "else:\n",
        "  print(f\"{comissao_vendas:.2f}\")\n",
        "  print(\"Nao atingiu meta de vendas\")"
      ]
    }
  ]
}