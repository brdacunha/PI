{
  "nbformat": 4,
  "nbformat_minor": 0,
  "metadata": {
    "colab": {
      "provenance": [],
      "include_colab_link": true
    },
    "kernelspec": {
      "name": "python3",
      "display_name": "Python 3"
    },
    "language_info": {
      "name": "python"
    }
  },
  "cells": [
    {
      "cell_type": "markdown",
      "metadata": {
        "id": "view-in-github",
        "colab_type": "text"
      },
      "source": [
        "<a href=\"https://colab.research.google.com/github/brdacunha/PI/blob/main/Ep2.ipynb\" target=\"_parent\"><img src=\"https://colab.research.google.com/assets/colab-badge.svg\" alt=\"Open In Colab\"/></a>"
      ]
    },
    {
      "cell_type": "markdown",
      "source": [
        "Vendas"
      ],
      "metadata": {
        "id": "FvC1VPY1ey_F"
      }
    },
    {
      "cell_type": "code",
      "execution_count": null,
      "metadata": {
        "colab": {
          "base_uri": "https://localhost:8080/"
        },
        "id": "Tg6VvX6Jfibr",
        "outputId": "815eb7c0-9c84-4b95-c4ed-0a0473d4565b"
      },
      "outputs": [
        {
          "output_type": "stream",
          "name": "stdout",
          "text": [
            "Salário fixo do vendedor:5000\n",
            "Soma das vendas realizadas:2000\n",
            "400.00\n",
            "Nao atingiu meta de vendas\n"
          ]
        }
      ],
      "source": [
        "salario_fixo = float(input(\"Salário fixo do vendedor:\"))\n",
        "soma_das_vendas = float(input(\"Soma das vendas realizadas:\"))\n",
        "\n",
        "comissao_zero = salario_fixo*0.5\n",
        "comissao_vendas = soma_das_vendas*0.2\n",
        "\n",
        "if comissao_vendas >= comissao_zero:\n",
        "  print(f\"{comissao_vendas:.2f}\")\n",
        "  print(\"Atingiu meta de vendas\")\n",
        "else:\n",
        "  print(f\"{comissao_vendas:.2f}\")\n",
        "  print(\"Nao atingiu meta de vendas\")"
      ]
    },
    {
      "cell_type": "markdown",
      "source": [
        "Bhaskara"
      ],
      "metadata": {
        "id": "Cv-SKMwcetrR"
      }
    },
    {
      "cell_type": "code",
      "source": [
        "import math\n",
        "a = int(input())\n",
        "b = int(input())\n",
        "c = int(input())\n",
        "delta = b**2 -4*a*c\n",
        "\n",
        "if delta > 0:\n",
        "  raiz1_equacao = (-b - math.sqrt(delta))/(2*a)\n",
        "  raiz2_equacao = (-b + math.sqrt(delta))/(2*a)\n",
        "  raizes = sorted([raiz1_equacao, raiz2_equacao], reverse=False)\n",
        "  print(\"x1 = %.2f\" % raizes[0])\n",
        "  print(\"x2 = %.2f\" % raizes[1])\n",
        "\n",
        "elif delta == 0:\n",
        "  raiz_equacao = (-b + math.sqrt(delta))/(2*a)\n",
        "  print(\"x = %.2f\" %(raiz_equacao))\n",
        "\n",
        "else:\n",
        "  print(\"Sem solucao real!\")\n",
        "  print(\"Delta = %.2f\" % (delta))"
      ],
      "metadata": {
        "id": "tI_cJkf1eu-p"
      },
      "execution_count": null,
      "outputs": []
    },
    {
      "cell_type": "markdown",
      "source": [
        "Conceito final"
      ],
      "metadata": {
        "id": "YV4HVSobfFKN"
      }
    },
    {
      "cell_type": "code",
      "source": [
        "teste1 = float(input())\n",
        "teste2 = float(input())\n",
        "teste3 = float(input())\n",
        "prova1 = float(input())\n",
        "prova2 = float(input())\n",
        "t = (teste1 + teste2 + teste3)/3\n",
        "nf = 0.2*t + 0.4*prova1 + 0.4*prova2\n",
        "print('%.2f' %nf)\n",
        "\n",
        "if nf >= 9.0 and nf <= 10.0:\n",
        "  print('A')\n",
        "elif nf >= 7.5 and nf < 9.0:\n",
        "  print('B')\n",
        "elif nf >= 6.0 and nf <= 7.5:\n",
        "  print('C')\n",
        "elif nf >= 5.0 and nf <= 6.0:\n",
        "  print('D')\n",
        "else:\n",
        "  print('F')"
      ],
      "metadata": {
        "id": "yXKZH-b1e00Q",
        "outputId": "f52a8129-53b1-4fb0-ac7d-5e610fdce8e0",
        "colab": {
          "base_uri": "https://localhost:8080/"
        }
      },
      "execution_count": null,
      "outputs": [
        {
          "output_type": "stream",
          "name": "stdout",
          "text": [
            "1\n",
            "2\n",
            "4\n",
            "5\n",
            "7\n",
            "5.27\n",
            "D\n"
          ]
        }
      ]
    },
    {
      "cell_type": "markdown",
      "source": [
        "Faixas de temperatura"
      ],
      "metadata": {
        "id": "Rw5XkFFQsm9B"
      }
    },
    {
      "cell_type": "code",
      "source": [
        "temperatura = float(input())\n",
        "\n",
        "if temperatura > 250:\n",
        "  print('Muito Alta')\n",
        "elif 200 < temperatura <= 250:\n",
        "  print('Alta')\n",
        "elif 30 < temperatura <= 200:\n",
        "  print('Normal')\n",
        "elif -20 < temperatura <= 30:\n",
        "  print('Baixa')\n",
        "else:\n",
        "  print('Muito Baixa')"
      ],
      "metadata": {
        "id": "8RXFzm_Nsqtb"
      },
      "execution_count": null,
      "outputs": []
    },
    {
      "cell_type": "markdown",
      "source": [
        "Discos Voadores"
      ],
      "metadata": {
        "id": "XgH1GDCtsh0t"
      }
    },
    {
      "cell_type": "code",
      "source": [
        "ano_de_producao = int(input())\n",
        "motor_principal = int(input())\n",
        "distancia = float(input())\n",
        "\n",
        "if ano_de_producao <= 1900:\n",
        "  print('NAO')\n",
        "\n",
        "elif 1901 <= ano_de_producao <= 2000:\n",
        "  if motor_principal in [100, 101]:\n",
        "    print('SIM')\n",
        "  else:\n",
        "    print('NAO')\n",
        "\n",
        "elif 2001 <= ano_de_producao <= 2020:\n",
        "  if distancia > 5000:\n",
        "    print('SIM')\n",
        "  else:\n",
        "    print('NAO')\n",
        "\n",
        "elif ano_de_producao >= 2021:\n",
        "  if motor_principal in [200, 201]:\n",
        "    if distancia > 200:\n",
        "      print('SIM')\n",
        "    else:\n",
        "      print('NAO')\n",
        "  else:\n",
        "    print('NAO')"
      ],
      "metadata": {
        "id": "S0FB2sfhslUz"
      },
      "execution_count": null,
      "outputs": []
    },
    {
      "cell_type": "markdown",
      "source": [
        "Retângulo"
      ],
      "metadata": {
        "id": "5YP_TD02sr1N"
      }
    },
    {
      "cell_type": "code",
      "source": [
        "# coordenada x do ponto\n",
        "x = float(input())\n",
        "# coordenada y do ponto\n",
        "y = float(input())\n",
        "\n",
        "if x in range(-800, 23) and y in range(-20, 36):\n",
        "  print('SIM')\n",
        "else:\n",
        "  print('NAO')"
      ],
      "metadata": {
        "id": "R-4Q2Mq-s90J"
      },
      "execution_count": null,
      "outputs": []
    },
    {
      "cell_type": "markdown",
      "source": [
        "Fábrica de discos voadores"
      ],
      "metadata": {
        "id": "d2AFFH6NzFpn"
      }
    },
    {
      "cell_type": "code",
      "source": [
        "# Tabelas de códigos de planetas e modelos\n",
        "tabela_planetas = {\n",
        "    \"80\": \"Marte\",\n",
        "    \"81\": \"Saturno\",\n",
        "    \"90\": \"Netuno\",\n",
        "    \"91\": \"HD21749b\"\n",
        "}\n",
        "\n",
        "tabela_modelos = {\n",
        "    \"60\": \"A6000\",\n",
        "    \"61\": \"B7500\",\n",
        "    \"62\": \"C9000\"\n",
        "}\n",
        "\n",
        "# Entrada do usuário\n",
        "numero_discodevoador = input(\"Digite o número de 6 dígitos do disco voador: \")\n",
        "\n",
        "# Verificação do comprimento da entrada\n",
        "if len(numero_discodevoador) != 6 or not numero_discodevoador.isdigit():\n",
        "    print(\"Número inválido. Certifique-se de digitar um número de 6 dígitos.\")\n",
        "else:\n",
        "    # Extração dos códigos de origem, destino e modelo\n",
        "    origem = numero_discodevoador[:2]\n",
        "    destino = numero_discodevoador[2:4]\n",
        "    modelo = numero_discodevoador[4:]\n",
        "\n",
        "    # Impressão dos resultados\n",
        "    print(f\"Origem: {tabela_planetas.get(origem)}\")\n",
        "    print(f\"Destino: {tabela_planetas.get(destino)}\")\n",
        "    print(f\"Modelo: {tabela_modelos.get(modelo)}\")"
      ],
      "metadata": {
        "colab": {
          "base_uri": "https://localhost:8080/"
        },
        "id": "5OIWkGTMzIxF",
        "outputId": "7961e986-40d3-472f-d887-5692478f82ea"
      },
      "execution_count": 24,
      "outputs": [
        {
          "output_type": "stream",
          "name": "stdout",
          "text": [
            "Digite o número de 6 dígitos do disco voador: 808160\n",
            "Origem: Marte\n",
            "Destino: Saturno\n",
            "Modelo: A6000\n"
          ]
        }
      ]
    },
    {
      "cell_type": "code",
      "source": [
        "tabela_planetas = {\n",
        "    '80': 'Marte',\n",
        "    '81': 'Saturno',\n",
        "    '90': 'Netuno',\n",
        "    '91': 'HD21749b'\n",
        "}\n",
        "\n",
        "tabela_modelos = {\n",
        "    '60': 'A6000',\n",
        "    '61': 'B7500',\n",
        "    '62': 'C9000'\n",
        "}\n",
        "\n",
        "numero = input()\n",
        "\n",
        "if len(numero) != 6 or not numero.isdigit():\n",
        "  print('Numero invalido')\n",
        "\n",
        "else:\n",
        "  origem = numero[:2]\n",
        "  destino = numero[2:4]\n",
        "  modelo = numero[4:]\n",
        "\n",
        "print(tabela_planetas.get(origem))\n",
        "print(tabela_planetas.get(destino))\n",
        "print(tabela_modelos.get(modelo))"
      ],
      "metadata": {
        "colab": {
          "base_uri": "https://localhost:8080/"
        },
        "id": "jBvpZjfP0hni",
        "outputId": "681c8ff1-390d-4326-9658-6ae298eebdb9"
      },
      "execution_count": 27,
      "outputs": [
        {
          "output_type": "stream",
          "name": "stdout",
          "text": [
            "808162\n",
            "Marte\n",
            "Saturno\n",
            "C9000\n"
          ]
        }
      ]
    },
    {
      "cell_type": "markdown",
      "source": [
        "Autonomia do avião"
      ],
      "metadata": {
        "id": "hJZQt5PE5Q6p"
      }
    },
    {
      "cell_type": "code",
      "source": [
        "import math\n",
        "\n",
        "# carga em quilos\n",
        "carga_aviao = float()\n",
        "\n",
        "# coordenadas dos pontos A e B\n",
        "ax = float(input())\n",
        "ay = float(input())\n",
        "bx = float(input())\n",
        "by = float(input())\n",
        "\n",
        "# distancia entre pontos A e B\n",
        "d_ab = math.sqrt((bx - ax)**2 + (by - ay)**2)\n",
        "print(\"%.2f\" %d_ab)\n",
        "\n",
        "autonomia = d_ab\n",
        "\n",
        "if d_ab > 18000:\n",
        "  print('NAO')\n",
        "if carga in range(0, 50001):\n",
        "  #if autonomia in range(0,18001, 1): #continuar daqui!!!!!!!\n",
        "  print('SIM')\n",
        "  elif autonomia in range(18000, autonomia*1.1)\n",
        "if carga in range(50001, 200001) and d_ab in range(0,9001):\n",
        "  print('SIM')\n",
        "if carga in range(200001, 250001) and d_ab in range(0,3001):\n",
        "  print('SIM')"
      ],
      "metadata": {
        "id": "piDxF3Mv5UAT"
      },
      "execution_count": null,
      "outputs": []
    }
  ]
}