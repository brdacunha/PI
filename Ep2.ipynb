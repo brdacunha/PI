{
  "nbformat": 4,
  "nbformat_minor": 0,
  "metadata": {
    "colab": {
      "provenance": [],
      "authorship_tag": "ABX9TyPI+A+9QlELhtzj4XU3UGLM",
      "include_colab_link": true
    },
    "kernelspec": {
      "name": "python3",
      "display_name": "Python 3"
    },
    "language_info": {
      "name": "python"
    }
  },
  "cells": [
    {
      "cell_type": "markdown",
      "metadata": {
        "id": "view-in-github",
        "colab_type": "text"
      },
      "source": [
        "<a href=\"https://colab.research.google.com/github/brdacunha/PI/blob/main/Ep2.ipynb\" target=\"_parent\"><img src=\"https://colab.research.google.com/assets/colab-badge.svg\" alt=\"Open In Colab\"/></a>"
      ]
    },
    {
      "cell_type": "code",
      "execution_count": 11,
      "metadata": {
        "colab": {
          "base_uri": "https://localhost:8080/"
        },
        "id": "Tg6VvX6Jfibr",
        "outputId": "a8871a5d-6e3e-44bb-d9b7-7cdde14ceb05"
      },
      "outputs": [
        {
          "output_type": "stream",
          "name": "stdout",
          "text": [
            "Salário fixo do vendedor:5000\n",
            "Soma das vendas realizadas:200000\n",
            "40000.00 \n",
            " Atingiu meta de vendas\n"
          ]
        }
      ],
      "source": [
        "salario_fixo = float(input(\"Salário fixo do vendedor:\"))\n",
        "soma_das_vendas = float(input(\"Soma das vendas realizadas:\"))\n",
        "\n",
        "comissao_zero = salario_fixo*0.5\n",
        "comissao_vendas = soma_das_vendas*0.2\n",
        "\n",
        "if comissao_vendas >= comissao_zero:\n",
        "  print(\"%.2f\" % comissao_vendas, \"\\n\", \"Atingiu meta de vendas\")\n",
        "else:\n",
        "  print(\"%.2f\" % comissao_vendas, \"\\n\", \"Nao atingiu meta de vendas\")"
      ]
    }
  ]
}