{
  "nbformat": 4,
  "nbformat_minor": 0,
  "metadata": {
    "colab": {
      "provenance": [],
      "authorship_tag": "ABX9TyPDIPJfdVXf/W7TBPmp9fzB",
      "include_colab_link": true
    },
    "kernelspec": {
      "name": "python3",
      "display_name": "Python 3"
    },
    "language_info": {
      "name": "python"
    }
  },
  "cells": [
    {
      "cell_type": "markdown",
      "metadata": {
        "id": "view-in-github",
        "colab_type": "text"
      },
      "source": [
        "<a href=\"https://colab.research.google.com/github/brdacunha/PI/blob/main/Aula_1.ipynb\" target=\"_parent\"><img src=\"https://colab.research.google.com/assets/colab-badge.svg\" alt=\"Open In Colab\"/></a>"
      ]
    },
    {
      "cell_type": "code",
      "execution_count": 8,
      "metadata": {
        "id": "h77bVfCOCjQt",
        "colab": {
          "base_uri": "https://localhost:8080/"
        },
        "outputId": "4626f94c-1377-4828-b8a9-5e1f4207d281"
      },
      "outputs": [
        {
          "output_type": "stream",
          "name": "stdout",
          "text": [
            "O prêmio total da mega-sena é: 85000000\n",
            "O número de pessoas no bolão é: 8\n",
            "10625000.00\n"
          ]
        }
      ],
      "source": [
        "C = int(input(\"O prêmio total da mega-sena é: \"))\n",
        "N = int(input(\"O número de pessoas no bolão é: \"))\n",
        "d = C/N\n",
        "d = '{:.2f}'.format(d)\n",
        "print(d)"
      ]
    },
    {
      "cell_type": "code",
      "source": [
        "C = float(input('Capacidade em litros do tanque: '))\n",
        "E = float(input('A eficiência do carro é '))\n",
        "Autonomia = C*E\n",
        "Autonomia = '{:.2f}'.format(Autonomia)\n",
        "print('O carro vai andar', Autonomia, 'quilômetros.')"
      ],
      "metadata": {
        "colab": {
          "base_uri": "https://localhost:8080/"
        },
        "id": "W6Ts7cadK5dc",
        "outputId": "5e22031a-2964-45d3-9daf-38425a987f7b"
      },
      "execution_count": 11,
      "outputs": [
        {
          "output_type": "stream",
          "name": "stdout",
          "text": [
            "Capacidade em litros do tanque: 45\n",
            "A eficiência do carro é 15\n",
            "O carro vai andar 675.00 quilômetros.\n"
          ]
        }
      ]
    }
  ]
}