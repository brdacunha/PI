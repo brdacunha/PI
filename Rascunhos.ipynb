{
  "nbformat": 4,
  "nbformat_minor": 0,
  "metadata": {
    "colab": {
      "provenance": [],
      "authorship_tag": "ABX9TyO44yECq26c8NNtLuCID8vK",
      "include_colab_link": true
    },
    "kernelspec": {
      "name": "python3",
      "display_name": "Python 3"
    },
    "language_info": {
      "name": "python"
    }
  },
  "cells": [
    {
      "cell_type": "markdown",
      "metadata": {
        "id": "view-in-github",
        "colab_type": "text"
      },
      "source": [
        "<a href=\"https://colab.research.google.com/github/brdacunha/PI/blob/main/Rascunhos.ipynb\" target=\"_parent\"><img src=\"https://colab.research.google.com/assets/colab-badge.svg\" alt=\"Open In Colab\"/></a>"
      ]
    },
    {
      "cell_type": "markdown",
      "source": [
        "Escreva um programa que leia um vetor de inteiros com n elementos. Depois verifique se o vetor é \"espelhado\", ou seja, a primeira metade é igual ao inverso da segunda. Por exemplo, os vetores a seguir são \"espelhados\": [5 9 7 8 8 7 9 5], [1 2 3 2 1], mas o vetor [1 2 3 4 5] não é.\n",
        "\n",
        "\n",
        "Entrada:\n",
        "Um valor n (0 <= n <= 50);\n",
        "\n",
        "n inteiros\n",
        "\n",
        "Saída:\n",
        "\n",
        "Imprima \"SIM\" se o vetor for \"espelhado\" e \"NAO\" caso contrário (observe que não há um til no NAO)"
      ],
      "metadata": {
        "id": "wFsj0i4mFZXw"
      }
    },
    {
      "cell_type": "code",
      "execution_count": null,
      "metadata": {
        "colab": {
          "base_uri": "https://localhost:8080/"
        },
        "id": "Okqd-H01FWCS",
        "outputId": "b9aaca9e-3111-4983-8620-04e0055c2d3d"
      },
      "outputs": [
        {
          "output_type": "stream",
          "name": "stdout",
          "text": [
            "6\n",
            "1\n",
            "2\n",
            "3\n",
            "4\n",
            "5\n",
            "6\n",
            "NAO\n"
          ]
        }
      ],
      "source": [
        "n = int(input())\n",
        "vetor = []\n",
        "\n",
        "for i in range(n):\n",
        "  valor = int(input())\n",
        "  vetor.append(valor)\n",
        "\n",
        "def verifica_espelhado(vetor):\n",
        "  metade = len(vetor)//2\n",
        "\n",
        "  for i in range(metade):\n",
        "    if vetor[i] != vetor[n-1-i]:\n",
        "      return False\n",
        "  return True\n",
        "\n",
        "if verifica_espelhado(vetor):\n",
        "  print(\"SIM\")\n",
        "else:\n",
        "  print(\"NAO\")"
      ]
    },
    {
      "cell_type": "markdown",
      "source": [
        "Escreva um programa que leia um vetor de inteiros com n elementos. Depois verifique se o vetor está ordenado em ordem crescente.\n",
        "\n",
        "Observação: após a leitura do valor n, os elementos do vetor estão todos dispostos em apenas uma linha."
      ],
      "metadata": {
        "id": "YKYqRQgBQPQh"
      }
    },
    {
      "cell_type": "code",
      "source": [
        "itens_linha = input().split(\" \")\n",
        "vetor = [0] * len(itens_linha)\n",
        "\n",
        "for i in range(len(itens_linha)):\n",
        "    vetor[i] = int(itens_linha[i])\n",
        "\n",
        "ordenar = sorted(vetor)\n",
        "\n",
        "if vetor == ordenar:\n",
        "  print(\"SIM\")\n",
        "else:\n",
        "  print(\"NAO\")"
      ],
      "metadata": {
        "colab": {
          "base_uri": "https://localhost:8080/"
        },
        "id": "zmTgv2TYQP5_",
        "outputId": "295af6c6-8552-4d0e-fd20-08daf9174dac"
      },
      "execution_count": null,
      "outputs": [
        {
          "output_type": "stream",
          "name": "stdout",
          "text": [
            "1 2 3 4 5 6 7 8 9\n",
            "SIM\n"
          ]
        }
      ]
    },
    {
      "cell_type": "markdown",
      "source": [
        "Escreva um programa que leia dois vetores (A e B) de mesmo comprimento n. Para isso, o programa deve ler um valor inteiro n (comprimento), ler o n valores de um dos vetores e depois os n valores do outro vetor. Ao final, o programa deve imprimir \"SIM\" se um vetor for o resultado de uma multiplicação de todos os elementos do outro pelo mesmo valor, ou \"NAO\" caso contrário (não há til ~ em NAO).\n",
        "\n",
        "Por exemplo, considere os vetores A = [1, 2, 5, 10] e B = [3, 6, 15, 30]. Neste caso, o programa deve imprimir \"SIM\", pois o vetor B é resultado da multiplicação de todos os elementos de A por 3.\n",
        "\n",
        "Outro exemplo: considere os vetores A = [1, 2, 5, 10] e B = [3, 6, 15, 90]. Neste caso, o programa deve imprimir \"NAO\", pois o vetor B não é resultado da multiplicação de todos os elementos de A por um mesmo valor. Os três primeiros números foram multiplicados por 3, mas o quarto foi multiplicado por 9.\n",
        "\n",
        "Observação: após a leitura do valor n, os elementos de cada vetor estão todos dispostos em apenas uma linha."
      ],
      "metadata": {
        "id": "POM7ljcwhFps"
      }
    },
    {
      "cell_type": "code",
      "source": [
        "n = int(input())\n",
        "vetor_A = [0] * n\n",
        "vetor_B = [0] * n\n",
        "\n",
        "itens_A = input().split()\n",
        "itens_B = input().split()\n",
        "\n",
        "for i in range(n):\n",
        "  vetor_A[i] = int(itens_A[i])\n",
        "  vetor_B[i] = int(itens_B[i])\n",
        "\n",
        "fator = vetor_B[0]/vetor_A[0]\n",
        "mesmo_fator = True\n",
        "\n",
        "for i in range(1, n):\n",
        "  if vetor_B[i]/vetor_A[i] != fator:\n",
        "    mesmo_fator = False\n",
        "    break\n",
        "\n",
        "if mesmo_fator:\n",
        "    print(\"SIM\")\n",
        "else:\n",
        "    print(\"NAO\")"
      ],
      "metadata": {
        "id": "PJr0Dt3ChGjo"
      },
      "execution_count": null,
      "outputs": []
    },
    {
      "cell_type": "markdown",
      "source": [
        "Escreva um programa que leia um valor n e depois os n elementos de um vetor de inteiros.\n",
        "\n",
        "Observação: após a leitura do valor n, os elementos do vetor estão todos dispostos em apenas uma linha. Por exemplo:\n",
        "\n",
        "8\n",
        "10 5 8 5 5 36 10 9\n",
        "Para ler elementos em uma mesma linha em Python ou em Java, pode ser usada uma estratégia similar àquela apresentada no enunciado do EP4_8 - Vetor crescente.\n",
        "\n",
        "Depois imprima apenas a primeira ocorrência de cada número, ou seja, se um número aparece mais de uma vez no vetor, apenas a primeira ocorrência dele ser impressa.\n",
        "\n",
        "Por exemplo, para o vetor [10, 5, 8, 5, 5, 36, 10, 9], o programa deve imprimir (nesta ordem):\n",
        "\n",
        "10 5 8 36 9"
      ],
      "metadata": {
        "id": "jzw6_ofG8zE1"
      }
    },
    {
      "cell_type": "code",
      "source": [
        "n = int(input())\n",
        "vetor = [0] * n\n",
        "itens_vetor = input().split()\n",
        "\n",
        "for i in range(n):\n",
        "  vetor[i] = int(itens_vetor[i])\n",
        "\n",
        "vetor_sem_repetiçao = []\n",
        "\n",
        "for i in vetor:\n",
        "  if i not in vetor_sem_repetiçao:\n",
        "    vetor_sem_repetiçao.append(i)\n",
        "\n",
        "print(vetor_sem_repetiçao)"
      ],
      "metadata": {
        "colab": {
          "base_uri": "https://localhost:8080/"
        },
        "id": "bBv4dogy80_v",
        "outputId": "81421f1c-0d49-4e02-c232-74a439ec5f54"
      },
      "execution_count": null,
      "outputs": [
        {
          "output_type": "stream",
          "name": "stdout",
          "text": [
            "8\n",
            "10 5 8 5 5 36 10 9\n",
            "[10, 5, 8, 36, 9]\n"
          ]
        }
      ]
    },
    {
      "cell_type": "markdown",
      "source": [
        "Implemente:\n",
        "\n",
        "a) Uma função/método (inserir) que leia (Scanner/input) 10 valores inteiros e insira esses elementos em um vetor (a função/método retorna (return) esse vetor preenchido com 10 inteiros);\n",
        "b) Uma segunda função/método (imprimir) que receba o vetor criado em (a) e imprima os seus elementos (inclua um caractere espaço entre cada elemento impresso; quebre uma linha após a impressão do último elemento);\n",
        "c) Uma terceira função/método (shift) que receba o vetor criado em (a) e faça um shift para a direita em cada elemento inserido no vetor. Além disso, o vetor  deve ser circular, ou seja, o valor da última posição deve ser o valor da primeira. Por exemplo,\n",
        "\n",
        "Vetor original: [2, 4, 1, 5, 2, 18, 9, 3, 5, 10]\n",
        "Vetor após shift: [10, 2, 4, 1, 5, 2, 18, 9, 3, 5]"
      ],
      "metadata": {
        "id": "24Bb-sKUBqk1"
      }
    },
    {
      "cell_type": "code",
      "source": [
        "def inserir():\n",
        "    v = [0] * 10\n",
        "    for i in range(10):\n",
        "        valor = int(input())\n",
        "        v[i] = valor\n",
        "    return v\n",
        "\n",
        "def imprimir(v):\n",
        "    for elemento in v:\n",
        "        print(elemento, end= ' ')\n",
        "    print()\n",
        "\n",
        "def shift(v):\n",
        "    v_aux = v[9]\n",
        "    for i in range(9, 0, -1):\n",
        "        v[i] = v[i-1]\n",
        "    v[0] = v_aux\n",
        "    return v"
      ],
      "metadata": {
        "colab": {
          "base_uri": "https://localhost:8080/",
          "height": 384
        },
        "id": "1nHSTdaUBwd0",
        "outputId": "a7cccc63-55f3-495d-8aa2-f7315572b0c6"
      },
      "execution_count": null,
      "outputs": [
        {
          "name": "stdout",
          "output_type": "stream",
          "text": [
            "1\n",
            "2\n",
            "3\n",
            "4\n",
            "5\n",
            "6\n",
            "7\n",
            "8\n",
            "9\n",
            "10\n"
          ]
        },
        {
          "output_type": "error",
          "ename": "NameError",
          "evalue": "name 'v' is not defined",
          "traceback": [
            "\u001b[0;31m---------------------------------------------------------------------------\u001b[0m",
            "\u001b[0;31mNameError\u001b[0m                                 Traceback (most recent call last)",
            "\u001b[0;32m<ipython-input-8-bb5845d867de>\u001b[0m in \u001b[0;36m<cell line: 24>\u001b[0;34m()\u001b[0m\n\u001b[1;32m     22\u001b[0m \u001b[0;34m\u001b[0m\u001b[0m\n\u001b[1;32m     23\u001b[0m \u001b[0minserir\u001b[0m\u001b[0;34m(\u001b[0m\u001b[0;34m)\u001b[0m\u001b[0;34m\u001b[0m\u001b[0;34m\u001b[0m\u001b[0m\n\u001b[0;32m---> 24\u001b[0;31m \u001b[0mimprimir\u001b[0m\u001b[0;34m(\u001b[0m\u001b[0mv\u001b[0m\u001b[0;34m)\u001b[0m\u001b[0;34m\u001b[0m\u001b[0;34m\u001b[0m\u001b[0m\n\u001b[0m\u001b[1;32m     25\u001b[0m \u001b[0mshift\u001b[0m\u001b[0;34m(\u001b[0m\u001b[0mv\u001b[0m\u001b[0;34m)\u001b[0m\u001b[0;34m\u001b[0m\u001b[0;34m\u001b[0m\u001b[0m\n\u001b[1;32m     26\u001b[0m \u001b[0mimprimir\u001b[0m\u001b[0;34m(\u001b[0m\u001b[0mv\u001b[0m\u001b[0;34m)\u001b[0m\u001b[0;34m\u001b[0m\u001b[0;34m\u001b[0m\u001b[0m\n",
            "\u001b[0;31mNameError\u001b[0m: name 'v' is not defined"
          ]
        }
      ]
    },
    {
      "cell_type": "markdown",
      "source": [
        "criando matriz nula com bordas de 1."
      ],
      "metadata": {
        "id": "6reUmn94XmeX"
      }
    },
    {
      "cell_type": "code",
      "source": [
        "def matriz_borda1(m:int, n:int) -> list:\n",
        "  M = list()\n",
        "  for  i in range(m):\n",
        "    linha = list()\n",
        "    for j in range(n):\n",
        "      if i==0 or i==m-1 or j==0 or j==n-1:\n",
        "        linha.append(1)\n",
        "      else:\n",
        "        linha.append(0)\n",
        "    M.append(linha)\n",
        "  return M\n",
        "\n",
        "Matriz_Borda = matriz_borda1(8, 6)\n",
        "for linha in Matriz_Borda:\n",
        "  print(linha)"
      ],
      "metadata": {
        "colab": {
          "base_uri": "https://localhost:8080/"
        },
        "id": "4sYx5xXXXl1Y",
        "outputId": "590ccc17-23f5-44a4-ca5b-d2bd51f20ece"
      },
      "execution_count": null,
      "outputs": [
        {
          "output_type": "stream",
          "name": "stdout",
          "text": [
            "[1, 1, 1, 1, 1, 1]\n",
            "[1, 0, 0, 0, 0, 1]\n",
            "[1, 0, 0, 0, 0, 1]\n",
            "[1, 0, 0, 0, 0, 1]\n",
            "[1, 0, 0, 0, 0, 1]\n",
            "[1, 0, 0, 0, 0, 1]\n",
            "[1, 0, 0, 0, 0, 1]\n",
            "[1, 1, 1, 1, 1, 1]\n"
          ]
        }
      ]
    },
    {
      "cell_type": "code",
      "source": [
        "# Outra forma de fazer (truque)\n",
        "def matriz_borda1(m:int, n:int) -> list:\n",
        "  M = list()\n",
        "\n",
        "  for  i in range(m):\n",
        "    linha = list()\n",
        "    for j in range(n):\n",
        "      linha.append(int(i==0 or i==m-1 or j==0 or j==n-1))\n",
        "    M.append(linha)\n",
        "\n",
        "  return M\n",
        "\n",
        "Matriz_Borda = matriz_borda1(8, 6)\n",
        "for linha in Matriz_Borda:\n",
        "  print(linha)"
      ],
      "metadata": {
        "colab": {
          "base_uri": "https://localhost:8080/"
        },
        "id": "Q_TiNsUEZ2PA",
        "outputId": "74ae77d2-2855-401e-ab04-ebb7b9978f74"
      },
      "execution_count": null,
      "outputs": [
        {
          "output_type": "stream",
          "name": "stdout",
          "text": [
            "[1, 1, 1, 1, 1, 1]\n",
            "[1, 0, 0, 0, 0, 1]\n",
            "[1, 0, 0, 0, 0, 1]\n",
            "[1, 0, 0, 0, 0, 1]\n",
            "[1, 0, 0, 0, 0, 1]\n",
            "[1, 0, 0, 0, 0, 1]\n",
            "[1, 0, 0, 0, 0, 1]\n",
            "[1, 1, 1, 1, 1, 1]\n"
          ]
        }
      ]
    },
    {
      "cell_type": "markdown",
      "source": [
        "É matriz diagonal?"
      ],
      "metadata": {
        "id": "HprbU455dLgN"
      }
    },
    {
      "cell_type": "code",
      "source": [
        "def eh_diagonal(M:list) -> bool:\n",
        "  nro_linhas  = len(M)\n",
        "  nro_colunas = len(M[0])\n",
        "\n",
        "  if nro_linhas != nro_colunas:\n",
        "    return False\n",
        "\n",
        "  for i in range(nro_linhas):\n",
        "    for j in range(nro_colunas):\n",
        "      if i!=j and M[i][j]!=0:\n",
        "        return False\n",
        "\n",
        "  return True\n",
        "\n",
        "matriz = [[1, 0], [0, 9]]\n",
        "print(eh_diagonal(matriz))\n",
        "print(eh_diagonal(Matriz_Borda))"
      ],
      "metadata": {
        "colab": {
          "base_uri": "https://localhost:8080/"
        },
        "id": "a72IgmhYdLU9",
        "outputId": "8e8272da-1964-4f87-d732-caa8234a42bb"
      },
      "execution_count": null,
      "outputs": [
        {
          "output_type": "stream",
          "name": "stdout",
          "text": [
            "True\n",
            "False\n"
          ]
        }
      ]
    },
    {
      "cell_type": "markdown",
      "source": [
        "Maior valor."
      ],
      "metadata": {
        "id": "_8ChKpalfzt3"
      }
    },
    {
      "cell_type": "code",
      "source": [
        "def maior_valor(M:list) -> int:\n",
        "  maior = M[0][0]\n",
        "\n",
        "  for  i in range(len(M)):\n",
        "    for j in range(len(M[0])):\n",
        "      if maior < M[i][j]: # para menor valor, inverter p/ >\n",
        "         maior = M[i][j]\n",
        "\n",
        "  return maior\n",
        "\n",
        "matriz = [[1, 2, 3, 4, 5], [6, 53, 7, 6, 4]]\n",
        "print(maior_valor(matriz))"
      ],
      "metadata": {
        "colab": {
          "base_uri": "https://localhost:8080/"
        },
        "id": "lMyiwDNrf2Ms",
        "outputId": "b8732fc0-97f2-40e8-a340-78743cf9bbbe"
      },
      "execution_count": null,
      "outputs": [
        {
          "output_type": "stream",
          "name": "stdout",
          "text": [
            "53\n"
          ]
        }
      ]
    },
    {
      "cell_type": "markdown",
      "source": [
        "Soma ímpares."
      ],
      "metadata": {
        "id": "2AJi18AhiGHS"
      }
    },
    {
      "cell_type": "code",
      "source": [
        "def soma_impares(M:list) -> int:\n",
        "  soma = 0\n",
        "\n",
        "  for i in range(len(M)):\n",
        "    for  j in range(len(M[0])):\n",
        "      if M[i][j]%2==1: # para somar pares, basta trocas por \"%2==0\"\n",
        "        soma += M[i][j]\n",
        "\n",
        "  return soma\n",
        "\n",
        "matriz = [[1,2,3,4,5], [6,7,8,9,10]]\n",
        "print(soma_impares(matriz))"
      ],
      "metadata": {
        "id": "kS-oIj-YiGBT",
        "outputId": "6789ffc4-639e-46db-84ca-492f63bb6594",
        "colab": {
          "base_uri": "https://localhost:8080/"
        }
      },
      "execution_count": null,
      "outputs": [
        {
          "output_type": "stream",
          "name": "stdout",
          "text": [
            "30\n"
          ]
        }
      ]
    },
    {
      "cell_type": "markdown",
      "source": [
        "Matriz transposta."
      ],
      "metadata": {
        "id": "Lm0ICIDUiH5a"
      }
    },
    {
      "cell_type": "code",
      "source": [
        "def matriz_zeros(m:int, n:int) -> list:\n",
        "  M = list()\n",
        "  for i in range(m):\n",
        "    M.append([0]*n)\n",
        "  return M\n",
        "\n",
        "def matriz_transposta(M: list) -> list:\n",
        "  nro_linhas = len(M)\n",
        "  nro_colunas = len(M[0])\n",
        "\n",
        "  MT = matriz_zeros(nro_colunas, nro_linhas)\n",
        "\n",
        "  for i in range(nro_linhas):\n",
        "    for j in range(nro_colunas):\n",
        "      MT[j][i] = M[i][j]\n",
        "\n",
        "  return MT\n",
        "\n",
        "MT = matriz_transposta([[1,2,3,4],[5,6,7,8]])\n",
        "\n",
        "for linha in MT:\n",
        "  print(linha)"
      ],
      "metadata": {
        "colab": {
          "base_uri": "https://localhost:8080/"
        },
        "id": "6aqZNDasiHyS",
        "outputId": "5949971c-fb09-4e5e-bec9-22b774438765"
      },
      "execution_count": 9,
      "outputs": [
        {
          "output_type": "stream",
          "name": "stdout",
          "text": [
            "[1, 5]\n",
            "[2, 6]\n",
            "[3, 7]\n",
            "[4, 8]\n"
          ]
        }
      ]
    },
    {
      "cell_type": "markdown",
      "source": [
        "Faça um programa que busque um número específico dentro de uma matriz.\n",
        "O tamanho da matriz será definido pelo usuário, que vai entrar com a quantidade de linhas e depois com a quantidade de colunas. Após isso, o usuário vai inserir cada um dos elementos da matriz e, ao final, vai inserir qual é o número a ser buscado (é garantido que o número buscado aparece no máximo uma vez na matriz). Ao final, o programa deverá imprimir a posição do número buscado, ou seja, o número da linha e o número da coluna em que se encontra (note que o índice [0][0] no programa corresponde à posição da linha=1 e coluna=1). Caso o número não exista na matriz, imprima apenas o número -1.\n",
        "\n",
        "\n",
        "\n",
        "Entradas:\n",
        "Número de linhas da matriz (inteiro >0\n",
        ")\n",
        "Número de colunas da matriz (inteiro >0\n",
        ")\n",
        "Elementos que compõem a matriz (inteiros)\n",
        "Número a ser buscado na matriz (inteiro)\n",
        "Saídas:\n",
        "Posição do número buscado (ou -1 caso não exista)\n",
        "\n",
        "\n",
        "\n",
        "Observações:\n",
        "1. Nos exemplos, temos a matriz 2x3 abaixo. No primeiro exemplo, buscamos o elemento 4, que está na posição a21\n",
        ". No segundo exemplo, buscamos o elemento 8, que não existe nessa matriz.\n",
        "\n",
        "[[1,2,3][4,5,6]]"
      ],
      "metadata": {
        "id": "dJpI6cLQsoI-"
      }
    },
    {
      "cell_type": "code",
      "source": [
        "nro_linhas = int(input())\n",
        "nro_colunas = int(input())\n",
        "\n",
        "M = list()\n",
        "\n",
        "for i in range(nro_linhas):\n",
        "  linha = list()\n",
        "  for j in range(nro_colunas):\n",
        "    valor = int(input())\n",
        "    linha.append(valor)\n",
        "  M.append(linha)\n",
        "\n",
        "buscar_numero = int(input())\n",
        "encontrado = False\n",
        "\n",
        "for i in range(nro_linhas):\n",
        "  for j in range(nro_colunas):\n",
        "    if M[i][j] == buscar_numero:\n",
        "      print(i+1, j+1)\n",
        "      encontrado = True\n",
        "if not encontrado:\n",
        "  print(-1)"
      ],
      "metadata": {
        "colab": {
          "base_uri": "https://localhost:8080/"
        },
        "id": "GZgaMca_soCj",
        "outputId": "4101a0c7-e32b-4d76-c0b4-10c88c8907d3"
      },
      "execution_count": 18,
      "outputs": [
        {
          "output_type": "stream",
          "name": "stdout",
          "text": [
            "2\n",
            "3\n",
            "1\n",
            "2\n",
            "3\n",
            "4\n",
            "5\n",
            "6\n",
            "4\n",
            "2 1\n"
          ]
        }
      ]
    },
    {
      "cell_type": "markdown",
      "source": [
        "Escreva um programa que leia uma matriz para armazenar as C notas de uma turma e calcular a média de cada um dos L alunos. Portanto, será lida uma matriz com L linhas (uma para cada aluno) e C colunas (cada coluna terá uma nota).\n",
        "\n",
        "Para ler a matriz, primeiro será informado o número de linhas e depois o número de colunas. Após a leitura das dimensões da matriz, os elementos de cada linha da matriz estão dispostos linha por linha. Por exemplo (as duas primeiras linhas são as dimensões da matriz: número de linhas (2) e número de colunas(3)).\n",
        "Após isso, calcule a média (aritmética) das C notas para cada aluno e adicione a coluna C+1 com a média. Após isso, imprima a matriz completa, com L linhas e C+1 colunas.\n",
        "\n",
        "Entrada:\n",
        "\n",
        "2\n",
        "\n",
        "3\n",
        "\n",
        "6 9 6\n",
        "\n",
        "7 8 9\n",
        "\n",
        "\n",
        "Saída:\n",
        "\n",
        "6.00 9.00 6.00 7.00\n",
        "\n",
        "7.00 8.00 9.00 8.00"
      ],
      "metadata": {
        "id": "5g2oJcal3VqD"
      }
    },
    {
      "cell_type": "code",
      "source": [
        "nro_linhas = int(input())\n",
        "nro_colunas = int(input())\n",
        "M = list()\n",
        "\n",
        "for i in range(nro_linhas):\n",
        "  linha = list()\n",
        "  for j in range(nro_colunas):\n",
        "    linha.append(0)\n",
        "  M.append(linha)\n",
        "\n",
        "for i in range(nro_linhas):\n",
        "    valor = input().split(\" \")\n",
        "    for j in range(nro_colunas):\n",
        "      M[i][j] = float(valor[j])\n",
        "    media_linha = sum(M[i])/nro_colunas\n",
        "    M[i].append(media_linha)\n",
        "\n",
        "for linha in M:\n",
        "  for elemento in linha:\n",
        "    print('{:.2f}'.format(elemento), end=' ')\n",
        "  print()\n"
      ],
      "metadata": {
        "colab": {
          "base_uri": "https://localhost:8080/"
        },
        "id": "wUHz3TOy3Veb",
        "outputId": "28fdec61-92a2-4347-fbc2-bb0cba43580a"
      },
      "execution_count": 35,
      "outputs": [
        {
          "output_type": "stream",
          "name": "stdout",
          "text": [
            "2\n",
            "3\n",
            "6 9 6\n",
            "7 8 9\n",
            "6.00 9.00 6.00 7.00 \n",
            "7.00 8.00 9.00 8.00 \n"
          ]
        }
      ]
    },
    {
      "cell_type": "markdown",
      "source": [
        "Escreva uma função/método que recebe duas matrizes (matriz1 e matriz2) e retorne True caso a matriz2 tenha todos os valores duplicados nas posições correspondentes da matriz1. Caso contrário, deve-se retornar False. Se as dimensões da matriz1 forem diferentes das dimensões da matriz2, a função deve retornar False.\n",
        "\n",
        "Por exemplo, a função deve retornar True para as duas matrizes a seguir:\n",
        "\n",
        "[[11, 22], [33, 44]]\n",
        "\n",
        "[[22, 44], [66, 88]]\n",
        "\n",
        "Importante: submeta apenas a função/método e não realize leitura de dados (input/Scanner) ou impressão de dados (print/System.out).\n",
        "\n",
        "Neste exercício, não é permitido utilizar as funções de listas: del, append, extend, insert, remove, pop.\n",
        "\n",
        "Formato do caso de teste: esse é o formato dos casos de teste que aparecem ao avaliar a atividade; não inclua impressão de dados no código, essa impressão é feita automaticamente pelo sistema de correção de acordo com o retorno do método submetido.\n",
        "\n",
        "Entrada:\n",
        "\n",
        "- número de linhas e número de colunas da matriz1\n",
        "\n",
        "- elementos da matriz1\n",
        "\n",
        "- número de linhas e número de colunas da matriz2\n",
        "\n",
        "- elementos da matriz2\n",
        "\n",
        "Saída:\n",
        "\n",
        "- retorno da função/método\n"
      ],
      "metadata": {
        "id": "MB9dOoWCEl24"
      }
    },
    {
      "cell_type": "code",
      "source": [
        "def comparar_matrizes(matriz1, matriz2):\n",
        "  if len(matriz1) != len(matriz2) or len(matriz1[0]) != len(matriz2[0]):\n",
        "    return False\n",
        "\n",
        "  for i in range(len(matriz1)):\n",
        "    for j in range(len(matriz1[0])):\n",
        "      if matriz1[i][j]*2 != matriz2[i][j]:\n",
        "        return False\n",
        "\n",
        "  return True\n",
        ""
      ],
      "metadata": {
        "id": "o9l6oWMf8ixe"
      },
      "execution_count": null,
      "outputs": []
    }
  ]
}