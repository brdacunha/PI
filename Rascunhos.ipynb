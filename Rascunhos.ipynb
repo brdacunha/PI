{
  "nbformat": 4,
  "nbformat_minor": 0,
  "metadata": {
    "colab": {
      "provenance": [],
      "authorship_tag": "ABX9TyMioRoS6vxIiKckXfl3cLRj",
      "include_colab_link": true
    },
    "kernelspec": {
      "name": "python3",
      "display_name": "Python 3"
    },
    "language_info": {
      "name": "python"
    }
  },
  "cells": [
    {
      "cell_type": "markdown",
      "metadata": {
        "id": "view-in-github",
        "colab_type": "text"
      },
      "source": [
        "<a href=\"https://colab.research.google.com/github/brdacunha/PI/blob/main/Rascunhos.ipynb\" target=\"_parent\"><img src=\"https://colab.research.google.com/assets/colab-badge.svg\" alt=\"Open In Colab\"/></a>"
      ]
    },
    {
      "cell_type": "markdown",
      "source": [
        "Escreva um programa que leia um vetor de inteiros com n elementos. Depois verifique se o vetor é \"espelhado\", ou seja, a primeira metade é igual ao inverso da segunda. Por exemplo, os vetores a seguir são \"espelhados\": [5 9 7 8 8 7 9 5], [1 2 3 2 1], mas o vetor [1 2 3 4 5] não é.\n",
        "\n",
        "\n",
        "Entrada:\n",
        "Um valor n (0 <= n <= 50);\n",
        "\n",
        "n inteiros\n",
        "\n",
        "Saída:\n",
        "\n",
        "Imprima \"SIM\" se o vetor for \"espelhado\" e \"NAO\" caso contrário (observe que não há um til no NAO)"
      ],
      "metadata": {
        "id": "wFsj0i4mFZXw"
      }
    },
    {
      "cell_type": "code",
      "execution_count": 2,
      "metadata": {
        "colab": {
          "base_uri": "https://localhost:8080/"
        },
        "id": "Okqd-H01FWCS",
        "outputId": "b9aaca9e-3111-4983-8620-04e0055c2d3d"
      },
      "outputs": [
        {
          "output_type": "stream",
          "name": "stdout",
          "text": [
            "6\n",
            "1\n",
            "2\n",
            "3\n",
            "4\n",
            "5\n",
            "6\n",
            "NAO\n"
          ]
        }
      ],
      "source": [
        "n = int(input())\n",
        "vetor = []\n",
        "\n",
        "for i in range(n):\n",
        "  valor = int(input())\n",
        "  vetor.append(valor)\n",
        "\n",
        "def verifica_espelhado(vetor):\n",
        "  metade = len(vetor)//2\n",
        "\n",
        "  for i in range(metade):\n",
        "    if vetor[i] != vetor[n-1-i]:\n",
        "      return False\n",
        "  return True\n",
        "\n",
        "if verifica_espelhado(vetor):\n",
        "  print(\"SIM\")\n",
        "else:\n",
        "  print(\"NAO\")"
      ]
    },
    {
      "cell_type": "markdown",
      "source": [
        "Escreva um programa que leia um vetor de inteiros com n elementos. Depois verifique se o vetor está ordenado em ordem crescente.\n",
        "\n",
        "Observação: após a leitura do valor n, os elementos do vetor estão todos dispostos em apenas uma linha."
      ],
      "metadata": {
        "id": "YKYqRQgBQPQh"
      }
    },
    {
      "cell_type": "code",
      "source": [
        "itens_linha = input().split(\" \")\n",
        "vetor = [0] * len(itens_linha)\n",
        "\n",
        "for i in range(len(itens_linha)):\n",
        "    vetor[i] = int(itens_linha[i])\n",
        "\n",
        "ordenar = sorted(vetor)\n",
        "\n",
        "if vetor == ordenar:\n",
        "  print(\"SIM\")\n",
        "else:\n",
        "  print(\"NAO\")"
      ],
      "metadata": {
        "colab": {
          "base_uri": "https://localhost:8080/"
        },
        "id": "zmTgv2TYQP5_",
        "outputId": "295af6c6-8552-4d0e-fd20-08daf9174dac"
      },
      "execution_count": 15,
      "outputs": [
        {
          "output_type": "stream",
          "name": "stdout",
          "text": [
            "1 2 3 4 5 6 7 8 9\n",
            "SIM\n"
          ]
        }
      ]
    },
    {
      "cell_type": "markdown",
      "source": [
        "Escreva um programa que leia dois vetores (A e B) de mesmo comprimento n. Para isso, o programa deve ler um valor inteiro n (comprimento), ler o n valores de um dos vetores e depois os n valores do outro vetor. Ao final, o programa deve imprimir \"SIM\" se um vetor for o resultado de uma multiplicação de todos os elementos do outro pelo mesmo valor, ou \"NAO\" caso contrário (não há til ~ em NAO).\n",
        "\n",
        "Por exemplo, considere os vetores A = [1, 2, 5, 10] e B = [3, 6, 15, 30]. Neste caso, o programa deve imprimir \"SIM\", pois o vetor B é resultado da multiplicação de todos os elementos de A por 3.\n",
        "\n",
        "Outro exemplo: considere os vetores A = [1, 2, 5, 10] e B = [3, 6, 15, 90]. Neste caso, o programa deve imprimir \"NAO\", pois o vetor B não é resultado da multiplicação de todos os elementos de A por um mesmo valor. Os três primeiros números foram multiplicados por 3, mas o quarto foi multiplicado por 9.\n",
        "\n",
        "Observação: após a leitura do valor n, os elementos de cada vetor estão todos dispostos em apenas uma linha."
      ],
      "metadata": {
        "id": "POM7ljcwhFps"
      }
    },
    {
      "cell_type": "code",
      "source": [
        "n = int(input())\n",
        "vetor_A = [0] * n\n",
        "vetor_B = [0] * n\n",
        "\n",
        "itens_A = input().split()\n",
        "itens_B = input().split()\n",
        "\n",
        "for i in range(n):\n",
        "  vetor_A[i] = int(itens_A[i])\n",
        "  vetor_B[i] = int(itens_B[i])\n",
        "\n",
        "fator = vetor_B[0]/vetor_A[0]\n",
        "mesmo_fator = True\n",
        "\n",
        "for i in range(1, n):\n",
        "  if vetor_B[i]/vetor_A[i] != fator:\n",
        "    mesmo_fator = False\n",
        "    break\n",
        "\n",
        "if mesmo_fator:\n",
        "    print(\"SIM\")\n",
        "else:\n",
        "    print(\"NAO\")"
      ],
      "metadata": {
        "colab": {
          "base_uri": "https://localhost:8080/"
        },
        "id": "PJr0Dt3ChGjo",
        "outputId": "479e663b-19be-4fc4-997d-be2293270d21"
      },
      "execution_count": 23,
      "outputs": [
        {
          "output_type": "stream",
          "name": "stdout",
          "text": [
            "3\n",
            "1 2 3 \n",
            "2 5 4\n",
            "NAO\n"
          ]
        }
      ]
    }
  ]
}