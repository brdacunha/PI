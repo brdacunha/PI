{
  "nbformat": 4,
  "nbformat_minor": 0,
  "metadata": {
    "colab": {
      "provenance": [],
      "authorship_tag": "ABX9TyOPs5tSY/krOoXfmdMl8DIt",
      "include_colab_link": true
    },
    "kernelspec": {
      "name": "python3",
      "display_name": "Python 3"
    },
    "language_info": {
      "name": "python"
    }
  },
  "cells": [
    {
      "cell_type": "markdown",
      "metadata": {
        "id": "view-in-github",
        "colab_type": "text"
      },
      "source": [
        "<a href=\"https://colab.research.google.com/github/brdacunha/PI/blob/main/Rascunhos.ipynb\" target=\"_parent\"><img src=\"https://colab.research.google.com/assets/colab-badge.svg\" alt=\"Open In Colab\"/></a>"
      ]
    },
    {
      "cell_type": "markdown",
      "source": [
        "Escreva um programa que leia um vetor de inteiros com n elementos. Depois verifique se o vetor é \"espelhado\", ou seja, a primeira metade é igual ao inverso da segunda. Por exemplo, os vetores a seguir são \"espelhados\": [5 9 7 8 8 7 9 5], [1 2 3 2 1], mas o vetor [1 2 3 4 5] não é.\n",
        "\n",
        "\n",
        "Entrada:\n",
        "Um valor n (0 <= n <= 50);\n",
        "\n",
        "n inteiros\n",
        "\n",
        "Saída:\n",
        "\n",
        "Imprima \"SIM\" se o vetor for \"espelhado\" e \"NAO\" caso contrário (observe que não há um til no NAO)"
      ],
      "metadata": {
        "id": "wFsj0i4mFZXw"
      }
    },
    {
      "cell_type": "code",
      "execution_count": 2,
      "metadata": {
        "colab": {
          "base_uri": "https://localhost:8080/"
        },
        "id": "Okqd-H01FWCS",
        "outputId": "b9aaca9e-3111-4983-8620-04e0055c2d3d"
      },
      "outputs": [
        {
          "output_type": "stream",
          "name": "stdout",
          "text": [
            "6\n",
            "1\n",
            "2\n",
            "3\n",
            "4\n",
            "5\n",
            "6\n",
            "NAO\n"
          ]
        }
      ],
      "source": [
        "n = int(input())\n",
        "vetor = []\n",
        "\n",
        "for i in range(n):\n",
        "  valor = int(input())\n",
        "  vetor.append(valor)\n",
        "\n",
        "def verifica_espelhado(vetor):\n",
        "  metade = len(vetor)//2\n",
        "\n",
        "  for i in range(metade):\n",
        "    if vetor[i] != vetor[n-1-i]:\n",
        "      return False\n",
        "  return True\n",
        "\n",
        "if verifica_espelhado(vetor):\n",
        "  print(\"SIM\")\n",
        "else:\n",
        "  print(\"NAO\")"
      ]
    },
    {
      "cell_type": "markdown",
      "source": [
        "Escreva um programa que leia um vetor de inteiros com n elementos. Depois verifique se o vetor está ordenado em ordem crescente.\n",
        "\n",
        "Observação: após a leitura do valor n, os elementos do vetor estão todos dispostos em apenas uma linha."
      ],
      "metadata": {
        "id": "YKYqRQgBQPQh"
      }
    },
    {
      "cell_type": "code",
      "source": [
        "n = int(input())\n",
        "vetor = [0] * n\n",
        "\n",
        "itens_linha = input().split(\" \")\n",
        "\n",
        "for i in range(n):\n",
        "    vetor[i] = int(itens_linha[i])\n",
        "\n",
        "ordenar = sorted(vetor)\n",
        "\n",
        "if vetor == ordenar:\n",
        "  print(\"SIM\")\n",
        "else:\n",
        "  print(\"NAO\")"
      ],
      "metadata": {
        "colab": {
          "base_uri": "https://localhost:8080/"
        },
        "id": "zmTgv2TYQP5_",
        "outputId": "bf82068c-307c-465c-d893-58df85f23377"
      },
      "execution_count": 7,
      "outputs": [
        {
          "output_type": "stream",
          "name": "stdout",
          "text": [
            "3\n",
            "3\n",
            "2\n",
            "1\n",
            "NAO\n"
          ]
        }
      ]
    }
  ]
}