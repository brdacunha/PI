{
  "nbformat": 4,
  "nbformat_minor": 0,
  "metadata": {
    "colab": {
      "provenance": [],
      "authorship_tag": "ABX9TyPXV0dJY668coTBNjX7/S7g",
      "include_colab_link": true
    },
    "kernelspec": {
      "name": "python3",
      "display_name": "Python 3"
    },
    "language_info": {
      "name": "python"
    }
  },
  "cells": [
    {
      "cell_type": "markdown",
      "metadata": {
        "id": "view-in-github",
        "colab_type": "text"
      },
      "source": [
        "<a href=\"https://colab.research.google.com/github/brdacunha/PI/blob/main/Rascunhos.ipynb\" target=\"_parent\"><img src=\"https://colab.research.google.com/assets/colab-badge.svg\" alt=\"Open In Colab\"/></a>"
      ]
    },
    {
      "cell_type": "markdown",
      "source": [
        "Escreva um programa que leia um vetor de inteiros com n elementos. Depois verifique se o vetor é \"espelhado\", ou seja, a primeira metade é igual ao inverso da segunda. Por exemplo, os vetores a seguir são \"espelhados\": [5 9 7 8 8 7 9 5], [1 2 3 2 1], mas o vetor [1 2 3 4 5] não é.\n",
        "\n",
        "\n",
        "Entrada:\n",
        "Um valor n (0 <= n <= 50);\n",
        "\n",
        "n inteiros\n",
        "\n",
        "Saída:\n",
        "\n",
        "Imprima \"SIM\" se o vetor for \"espelhado\" e \"NAO\" caso contrário (observe que não há um til no NAO)"
      ],
      "metadata": {
        "id": "wFsj0i4mFZXw"
      }
    },
    {
      "cell_type": "code",
      "execution_count": null,
      "metadata": {
        "colab": {
          "base_uri": "https://localhost:8080/"
        },
        "id": "Okqd-H01FWCS",
        "outputId": "b9aaca9e-3111-4983-8620-04e0055c2d3d"
      },
      "outputs": [
        {
          "output_type": "stream",
          "name": "stdout",
          "text": [
            "6\n",
            "1\n",
            "2\n",
            "3\n",
            "4\n",
            "5\n",
            "6\n",
            "NAO\n"
          ]
        }
      ],
      "source": [
        "n = int(input())\n",
        "vetor = []\n",
        "\n",
        "for i in range(n):\n",
        "  valor = int(input())\n",
        "  vetor.append(valor)\n",
        "\n",
        "def verifica_espelhado(vetor):\n",
        "  metade = len(vetor)//2\n",
        "\n",
        "  for i in range(metade):\n",
        "    if vetor[i] != vetor[n-1-i]:\n",
        "      return False\n",
        "  return True\n",
        "\n",
        "if verifica_espelhado(vetor):\n",
        "  print(\"SIM\")\n",
        "else:\n",
        "  print(\"NAO\")"
      ]
    },
    {
      "cell_type": "markdown",
      "source": [
        "Escreva um programa que leia um vetor de inteiros com n elementos. Depois verifique se o vetor está ordenado em ordem crescente.\n",
        "\n",
        "Observação: após a leitura do valor n, os elementos do vetor estão todos dispostos em apenas uma linha."
      ],
      "metadata": {
        "id": "YKYqRQgBQPQh"
      }
    },
    {
      "cell_type": "code",
      "source": [
        "itens_linha = input().split(\" \")\n",
        "vetor = [0] * len(itens_linha)\n",
        "\n",
        "for i in range(len(itens_linha)):\n",
        "    vetor[i] = int(itens_linha[i])\n",
        "\n",
        "ordenar = sorted(vetor)\n",
        "\n",
        "if vetor == ordenar:\n",
        "  print(\"SIM\")\n",
        "else:\n",
        "  print(\"NAO\")"
      ],
      "metadata": {
        "colab": {
          "base_uri": "https://localhost:8080/"
        },
        "id": "zmTgv2TYQP5_",
        "outputId": "295af6c6-8552-4d0e-fd20-08daf9174dac"
      },
      "execution_count": null,
      "outputs": [
        {
          "output_type": "stream",
          "name": "stdout",
          "text": [
            "1 2 3 4 5 6 7 8 9\n",
            "SIM\n"
          ]
        }
      ]
    },
    {
      "cell_type": "markdown",
      "source": [
        "Escreva um programa que leia dois vetores (A e B) de mesmo comprimento n. Para isso, o programa deve ler um valor inteiro n (comprimento), ler o n valores de um dos vetores e depois os n valores do outro vetor. Ao final, o programa deve imprimir \"SIM\" se um vetor for o resultado de uma multiplicação de todos os elementos do outro pelo mesmo valor, ou \"NAO\" caso contrário (não há til ~ em NAO).\n",
        "\n",
        "Por exemplo, considere os vetores A = [1, 2, 5, 10] e B = [3, 6, 15, 30]. Neste caso, o programa deve imprimir \"SIM\", pois o vetor B é resultado da multiplicação de todos os elementos de A por 3.\n",
        "\n",
        "Outro exemplo: considere os vetores A = [1, 2, 5, 10] e B = [3, 6, 15, 90]. Neste caso, o programa deve imprimir \"NAO\", pois o vetor B não é resultado da multiplicação de todos os elementos de A por um mesmo valor. Os três primeiros números foram multiplicados por 3, mas o quarto foi multiplicado por 9.\n",
        "\n",
        "Observação: após a leitura do valor n, os elementos de cada vetor estão todos dispostos em apenas uma linha."
      ],
      "metadata": {
        "id": "POM7ljcwhFps"
      }
    },
    {
      "cell_type": "code",
      "source": [
        "n = int(input())\n",
        "vetor_A = [0] * n\n",
        "vetor_B = [0] * n\n",
        "\n",
        "itens_A = input().split()\n",
        "itens_B = input().split()\n",
        "\n",
        "for i in range(n):\n",
        "  vetor_A[i] = int(itens_A[i])\n",
        "  vetor_B[i] = int(itens_B[i])\n",
        "\n",
        "fator = vetor_B[0]/vetor_A[0]\n",
        "mesmo_fator = True\n",
        "\n",
        "for i in range(1, n):\n",
        "  if vetor_B[i]/vetor_A[i] != fator:\n",
        "    mesmo_fator = False\n",
        "    break\n",
        "\n",
        "if mesmo_fator:\n",
        "    print(\"SIM\")\n",
        "else:\n",
        "    print(\"NAO\")"
      ],
      "metadata": {
        "id": "PJr0Dt3ChGjo"
      },
      "execution_count": null,
      "outputs": []
    },
    {
      "cell_type": "markdown",
      "source": [
        "Escreva um programa que leia um valor n e depois os n elementos de um vetor de inteiros.\n",
        "\n",
        "Observação: após a leitura do valor n, os elementos do vetor estão todos dispostos em apenas uma linha. Por exemplo:\n",
        "\n",
        "8\n",
        "10 5 8 5 5 36 10 9\n",
        "Para ler elementos em uma mesma linha em Python ou em Java, pode ser usada uma estratégia similar àquela apresentada no enunciado do EP4_8 - Vetor crescente.\n",
        "\n",
        "Depois imprima apenas a primeira ocorrência de cada número, ou seja, se um número aparece mais de uma vez no vetor, apenas a primeira ocorrência dele ser impressa.\n",
        "\n",
        "Por exemplo, para o vetor [10, 5, 8, 5, 5, 36, 10, 9], o programa deve imprimir (nesta ordem):\n",
        "\n",
        "10 5 8 36 9"
      ],
      "metadata": {
        "id": "jzw6_ofG8zE1"
      }
    },
    {
      "cell_type": "code",
      "source": [
        "n = int(input())\n",
        "vetor = [0] * n\n",
        "itens_vetor = input().split()\n",
        "\n",
        "for i in range(n):\n",
        "  vetor[i] = int(itens_vetor[i])\n",
        "\n",
        "vetor_sem_repetiçao = []\n",
        "\n",
        "for i in vetor:\n",
        "  if i not in vetor_sem_repetiçao:\n",
        "    vetor_sem_repetiçao.append(i)\n",
        "\n",
        "print(vetor_sem_repetiçao)"
      ],
      "metadata": {
        "colab": {
          "base_uri": "https://localhost:8080/"
        },
        "id": "bBv4dogy80_v",
        "outputId": "81421f1c-0d49-4e02-c232-74a439ec5f54"
      },
      "execution_count": null,
      "outputs": [
        {
          "output_type": "stream",
          "name": "stdout",
          "text": [
            "8\n",
            "10 5 8 5 5 36 10 9\n",
            "[10, 5, 8, 36, 9]\n"
          ]
        }
      ]
    },
    {
      "cell_type": "markdown",
      "source": [
        "Implemente:\n",
        "\n",
        "a) Uma função/método (inserir) que leia (Scanner/input) 10 valores inteiros e insira esses elementos em um vetor (a função/método retorna (return) esse vetor preenchido com 10 inteiros);\n",
        "b) Uma segunda função/método (imprimir) que receba o vetor criado em (a) e imprima os seus elementos (inclua um caractere espaço entre cada elemento impresso; quebre uma linha após a impressão do último elemento);\n",
        "c) Uma terceira função/método (shift) que receba o vetor criado em (a) e faça um shift para a direita em cada elemento inserido no vetor. Além disso, o vetor  deve ser circular, ou seja, o valor da última posição deve ser o valor da primeira. Por exemplo,\n",
        "\n",
        "Vetor original: [2, 4, 1, 5, 2, 18, 9, 3, 5, 10]\n",
        "Vetor após shift: [10, 2, 4, 1, 5, 2, 18, 9, 3, 5]"
      ],
      "metadata": {
        "id": "24Bb-sKUBqk1"
      }
    },
    {
      "cell_type": "code",
      "source": [
        "def inserir():\n",
        "    v = [0] * 10\n",
        "    for i in range(10):\n",
        "        valor = int(input())\n",
        "        v[i] = valor\n",
        "    return v\n",
        "\n",
        "def imprimir(v):\n",
        "    for elemento in v:\n",
        "        print(elemento, end= ' ')\n",
        "    print()\n",
        "\n",
        "def shift(v):\n",
        "    v_aux = v[9]\n",
        "    for i in range(9, 0, -1):\n",
        "        v[i] = v[i-1]\n",
        "    v[0] = v_aux\n",
        "    return v"
      ],
      "metadata": {
        "colab": {
          "base_uri": "https://localhost:8080/",
          "height": 384
        },
        "id": "1nHSTdaUBwd0",
        "outputId": "a7cccc63-55f3-495d-8aa2-f7315572b0c6"
      },
      "execution_count": null,
      "outputs": [
        {
          "name": "stdout",
          "output_type": "stream",
          "text": [
            "1\n",
            "2\n",
            "3\n",
            "4\n",
            "5\n",
            "6\n",
            "7\n",
            "8\n",
            "9\n",
            "10\n"
          ]
        },
        {
          "output_type": "error",
          "ename": "NameError",
          "evalue": "name 'v' is not defined",
          "traceback": [
            "\u001b[0;31m---------------------------------------------------------------------------\u001b[0m",
            "\u001b[0;31mNameError\u001b[0m                                 Traceback (most recent call last)",
            "\u001b[0;32m<ipython-input-8-bb5845d867de>\u001b[0m in \u001b[0;36m<cell line: 24>\u001b[0;34m()\u001b[0m\n\u001b[1;32m     22\u001b[0m \u001b[0;34m\u001b[0m\u001b[0m\n\u001b[1;32m     23\u001b[0m \u001b[0minserir\u001b[0m\u001b[0;34m(\u001b[0m\u001b[0;34m)\u001b[0m\u001b[0;34m\u001b[0m\u001b[0;34m\u001b[0m\u001b[0m\n\u001b[0;32m---> 24\u001b[0;31m \u001b[0mimprimir\u001b[0m\u001b[0;34m(\u001b[0m\u001b[0mv\u001b[0m\u001b[0;34m)\u001b[0m\u001b[0;34m\u001b[0m\u001b[0;34m\u001b[0m\u001b[0m\n\u001b[0m\u001b[1;32m     25\u001b[0m \u001b[0mshift\u001b[0m\u001b[0;34m(\u001b[0m\u001b[0mv\u001b[0m\u001b[0;34m)\u001b[0m\u001b[0;34m\u001b[0m\u001b[0;34m\u001b[0m\u001b[0m\n\u001b[1;32m     26\u001b[0m \u001b[0mimprimir\u001b[0m\u001b[0;34m(\u001b[0m\u001b[0mv\u001b[0m\u001b[0;34m)\u001b[0m\u001b[0;34m\u001b[0m\u001b[0;34m\u001b[0m\u001b[0m\n",
            "\u001b[0;31mNameError\u001b[0m: name 'v' is not defined"
          ]
        }
      ]
    },
    {
      "cell_type": "markdown",
      "source": [
        "criando matriz nula com bordas de 1."
      ],
      "metadata": {
        "id": "6reUmn94XmeX"
      }
    },
    {
      "cell_type": "code",
      "source": [
        "def matriz_borda1(m:int, n:int) -> list:\n",
        "  M = list()\n",
        "  for  i in range(m):\n",
        "    linha = list()\n",
        "    for j in range(n):\n",
        "      if i==0 or i==m-1 or j==0 or j==n-1:\n",
        "        linha.append(1)\n",
        "      else:\n",
        "        linha.append(0)\n",
        "    M.append(linha)\n",
        "  return M\n",
        "\n",
        "Matriz_Borda = matriz_borda1(8, 6)\n",
        "for linha in Matriz_Borda:\n",
        "  print(linha)"
      ],
      "metadata": {
        "colab": {
          "base_uri": "https://localhost:8080/"
        },
        "id": "4sYx5xXXXl1Y",
        "outputId": "590ccc17-23f5-44a4-ca5b-d2bd51f20ece"
      },
      "execution_count": 4,
      "outputs": [
        {
          "output_type": "stream",
          "name": "stdout",
          "text": [
            "[1, 1, 1, 1, 1, 1]\n",
            "[1, 0, 0, 0, 0, 1]\n",
            "[1, 0, 0, 0, 0, 1]\n",
            "[1, 0, 0, 0, 0, 1]\n",
            "[1, 0, 0, 0, 0, 1]\n",
            "[1, 0, 0, 0, 0, 1]\n",
            "[1, 0, 0, 0, 0, 1]\n",
            "[1, 1, 1, 1, 1, 1]\n"
          ]
        }
      ]
    },
    {
      "cell_type": "code",
      "source": [
        "# Outra forma de fazer (truque)\n",
        "def matriz_borda1(m:int, n:int) -> list:\n",
        "  M = list()\n",
        "\n",
        "  for  i in range(m):\n",
        "    linha = list()\n",
        "    for j in range(n):\n",
        "      linha.append(int(i==0 or i==m-1 or j==0 or j==n-1))\n",
        "    M.append(linha)\n",
        "\n",
        "  return M\n",
        "\n",
        "Matriz_Borda = matriz_borda1(8, 6)\n",
        "for linha in Matriz_Borda:\n",
        "  print(linha)"
      ],
      "metadata": {
        "colab": {
          "base_uri": "https://localhost:8080/"
        },
        "id": "Q_TiNsUEZ2PA",
        "outputId": "74ae77d2-2855-401e-ab04-ebb7b9978f74"
      },
      "execution_count": 5,
      "outputs": [
        {
          "output_type": "stream",
          "name": "stdout",
          "text": [
            "[1, 1, 1, 1, 1, 1]\n",
            "[1, 0, 0, 0, 0, 1]\n",
            "[1, 0, 0, 0, 0, 1]\n",
            "[1, 0, 0, 0, 0, 1]\n",
            "[1, 0, 0, 0, 0, 1]\n",
            "[1, 0, 0, 0, 0, 1]\n",
            "[1, 0, 0, 0, 0, 1]\n",
            "[1, 1, 1, 1, 1, 1]\n"
          ]
        }
      ]
    },
    {
      "cell_type": "markdown",
      "source": [
        "É matriz diagonal?"
      ],
      "metadata": {
        "id": "HprbU455dLgN"
      }
    },
    {
      "cell_type": "code",
      "source": [
        "def eh_diagonal(M:list) -> bool:\n",
        "  nro_linhas  = len(M)\n",
        "  nro_colunas = len(M[0])\n",
        "\n",
        "  if nro_linhas != nro_colunas:\n",
        "    return False\n",
        "\n",
        "  for i in range(nro_linhas):\n",
        "    for j in range(nro_colunas):\n",
        "      if i!=j and M[i][j]!=0:\n",
        "        return False\n",
        "\n",
        "  return True\n",
        "\n",
        "matriz = [[1, 0], [0, 9]]\n",
        "print(eh_diagonal(matriz))\n",
        "print(eh_diagonal(Matriz_Borda))"
      ],
      "metadata": {
        "id": "a72IgmhYdLU9",
        "outputId": "8e8272da-1964-4f87-d732-caa8234a42bb",
        "colab": {
          "base_uri": "https://localhost:8080/"
        }
      },
      "execution_count": 9,
      "outputs": [
        {
          "output_type": "stream",
          "name": "stdout",
          "text": [
            "True\n",
            "False\n"
          ]
        }
      ]
    }
  ]
}